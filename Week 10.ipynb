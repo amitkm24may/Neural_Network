{
 "cells": [
  {
   "cell_type": "markdown",
   "metadata": {
    "id": "BAfJCaULD2Yp"
   },
   "source": [
    "# Distributed Training of Neural Network Models\n",
    "\n",
    "\n",
    "Below is the basic implementation of Federated Learning code for 2 clients and a server for one communication round using the MNIST dataset.\n",
    "\n",
    "Your task for this lab is to utilize this code as a benchmark and accomplish  the following objectives:\n",
    "\n",
    "1. Comment each section of the code to understand its functionality.\n",
    "\n",
    "2. Experiment with different neural network architectures, varying the number of layers and activation functions\n",
    "\n",
    "3. Assess the model's performance (accuracy, precision, recall, and f-score) as the number of clients changes. Utilize 2, 4, 6, 8, and 10 clients, and plot a graph illustrating the model's performance across varying client counts.\n",
    "\n",
    "4. Introduce one dishonest client for a any sepcific number of clients of your choice. For this client, assign some training labels ('y_train') to a specific label, such as '4'. Analyze how the performance ((accuracy, precision, recall, and f-score)) of the global model is affected by the presence of a dishonest client. Find approximately how many labels need to be maliciously altered so that the performance degrades."
   ]
  },
  {
   "cell_type": "code",
   "execution_count": 1,
   "metadata": {
    "id": "0rQj0pd83zCS"
   },
   "outputs": [],
   "source": [
    "import numpy as np\n",
    "import tensorflow as tf\n",
    "from tensorflow.keras.datasets import mnist\n",
    "from tensorflow.keras.models import Sequential\n",
    "from tensorflow.keras.layers import Dense, Flatten\n",
    "from tensorflow.keras.optimizers import SGD\n",
    "from sklearn.model_selection import train_test_split\n",
    "from keras import backend as K\n",
    "import random"
   ]
  },
  {
   "cell_type": "code",
   "execution_count": 2,
   "metadata": {
    "id": "jGQHqF2Y3zF5"
   },
   "outputs": [
    {
     "name": "stdout",
     "output_type": "stream",
     "text": [
      "WARNING:tensorflow:From D:\\Anaconda\\Lib\\site-packages\\keras\\src\\backend\\common\\global_state.py:74: The name tf.reset_default_graph is deprecated. Please use tf.compat.v1.reset_default_graph instead.\n",
      "\n"
     ]
    }
   ],
   "source": [
    "np.random.seed(2324555) # Set seed for numpy. Put your SID instead of number '42'\n",
    "random.seed(2324555) # Set seed for Python's built-in random number generator.  Put your SID instead of number '42'\n",
    "tf.random.set_seed(2324555) # Set seed for TensorFlow. Put your SID instead of number '42'\n",
    "K.clear_session()\n"
   ]
  },
  {
   "cell_type": "code",
   "execution_count": 3,
   "metadata": {
    "id": "0Mf8sjel39eG"
   },
   "outputs": [],
   "source": [
    "(x_train, y_train), (x_test, y_test) = mnist.load_data()"
   ]
  },
  {
   "cell_type": "code",
   "execution_count": 4,
   "metadata": {
    "id": "QGo4_zxa39je"
   },
   "outputs": [],
   "source": [
    "x_train = x_train.astype('float32') / 255.0\n",
    "x_test = x_test.astype('float32') / 255.0\n",
    "x_train = np.expand_dims(x_train, -1)\n",
    "x_test = np.expand_dims(x_test, -1)"
   ]
  },
  {
   "cell_type": "code",
   "execution_count": 5,
   "metadata": {
    "colab": {
     "base_uri": "https://localhost:8080/"
    },
    "id": "q8u-RBPj50Ht",
    "outputId": "829f32a1-1694-43a4-9012-9d19bdf5121a"
   },
   "outputs": [
    {
     "name": "stdout",
     "output_type": "stream",
     "text": [
      "(60000, 28, 28, 1)\n",
      "(10000, 28, 28, 1)\n"
     ]
    }
   ],
   "source": [
    "print(x_train.shape)\n",
    "print(x_test.shape)"
   ]
  },
  {
   "cell_type": "code",
   "execution_count": 6,
   "metadata": {
    "id": "1FzSanlW4DWD"
   },
   "outputs": [],
   "source": [
    "def create_client_model():\n",
    "    model = Sequential([\n",
    "        Flatten(input_shape=(28, 28, 1)),\n",
    "        Dense(128, activation='relu'),\n",
    "        Dense(10, activation='softmax')\n",
    "    ])\n",
    "    model.compile(optimizer='adam', loss='sparse_categorical_crossentropy', metrics=['accuracy'])\n",
    "    return model\n",
    "\n",
    "def train_client_model(model, x_train, y_train, epochs=5):\n",
    "    model.fit(x_train, y_train, epochs=epochs, verbose=1)\n",
    "    return model"
   ]
  },
  {
   "cell_type": "markdown",
   "metadata": {},
   "source": [
    "2 clients"
   ]
  },
  {
   "cell_type": "code",
   "execution_count": 7,
   "metadata": {
    "id": "faEMcu9L4DeQ"
   },
   "outputs": [],
   "source": [
    "x_train_c1, x_train_c2, y_train_c1, y_train_c2 = train_test_split(x_train, y_train, test_size=0.5, random_state=2324555)\n",
    "\n"
   ]
  },
  {
   "cell_type": "code",
   "execution_count": 8,
   "metadata": {
    "colab": {
     "base_uri": "https://localhost:8080/"
    },
    "id": "lNZLQ0j_5_QN",
    "outputId": "b432caad-65ba-4c03-9234-a8bad83c4a22"
   },
   "outputs": [
    {
     "name": "stdout",
     "output_type": "stream",
     "text": [
      "(30000, 28, 28, 1)\n",
      "(30000, 28, 28, 1)\n",
      "(30000,)\n",
      "(30000,)\n"
     ]
    }
   ],
   "source": [
    "print(x_train_c1.shape)\n",
    "print(x_train_c2.shape)\n",
    "print(y_train_c1.shape)\n",
    "print(y_train_c2.shape)\n"
   ]
  },
  {
   "cell_type": "code",
   "execution_count": 9,
   "metadata": {
    "colab": {
     "base_uri": "https://localhost:8080/"
    },
    "id": "8NDoAqhf6HIN",
    "outputId": "e506fc63-aa80-4ba1-b2a8-278c1521fd3a"
   },
   "outputs": [
    {
     "name": "stderr",
     "output_type": "stream",
     "text": [
      "D:\\Anaconda\\Lib\\site-packages\\keras\\src\\layers\\reshaping\\flatten.py:37: UserWarning: Do not pass an `input_shape`/`input_dim` argument to a layer. When using Sequential models, prefer using an `Input(shape)` object as the first layer in the model instead.\n",
      "  super().__init__(**kwargs)\n"
     ]
    },
    {
     "name": "stdout",
     "output_type": "stream",
     "text": [
      "Epoch 1/5\n",
      "\u001b[1m938/938\u001b[0m \u001b[32m━━━━━━━━━━━━━━━━━━━━\u001b[0m\u001b[37m\u001b[0m \u001b[1m3s\u001b[0m 2ms/step - accuracy: 0.8298 - loss: 0.5898\n",
      "Epoch 2/5\n",
      "\u001b[1m938/938\u001b[0m \u001b[32m━━━━━━━━━━━━━━━━━━━━\u001b[0m\u001b[37m\u001b[0m \u001b[1m2s\u001b[0m 2ms/step - accuracy: 0.9510 - loss: 0.1788\n",
      "Epoch 3/5\n",
      "\u001b[1m938/938\u001b[0m \u001b[32m━━━━━━━━━━━━━━━━━━━━\u001b[0m\u001b[37m\u001b[0m \u001b[1m2s\u001b[0m 2ms/step - accuracy: 0.9661 - loss: 0.1226\n",
      "Epoch 4/5\n",
      "\u001b[1m938/938\u001b[0m \u001b[32m━━━━━━━━━━━━━━━━━━━━\u001b[0m\u001b[37m\u001b[0m \u001b[1m2s\u001b[0m 2ms/step - accuracy: 0.9750 - loss: 0.0906\n",
      "Epoch 5/5\n",
      "\u001b[1m938/938\u001b[0m \u001b[32m━━━━━━━━━━━━━━━━━━━━\u001b[0m\u001b[37m\u001b[0m \u001b[1m2s\u001b[0m 2ms/step - accuracy: 0.9811 - loss: 0.0682\n",
      "Epoch 1/5\n",
      "\u001b[1m938/938\u001b[0m \u001b[32m━━━━━━━━━━━━━━━━━━━━\u001b[0m\u001b[37m\u001b[0m \u001b[1m3s\u001b[0m 2ms/step - accuracy: 0.8451 - loss: 0.5489\n",
      "Epoch 2/5\n",
      "\u001b[1m938/938\u001b[0m \u001b[32m━━━━━━━━━━━━━━━━━━━━\u001b[0m\u001b[37m\u001b[0m \u001b[1m2s\u001b[0m 2ms/step - accuracy: 0.9504 - loss: 0.1740\n",
      "Epoch 3/5\n",
      "\u001b[1m938/938\u001b[0m \u001b[32m━━━━━━━━━━━━━━━━━━━━\u001b[0m\u001b[37m\u001b[0m \u001b[1m2s\u001b[0m 2ms/step - accuracy: 0.9652 - loss: 0.1184\n",
      "Epoch 4/5\n",
      "\u001b[1m938/938\u001b[0m \u001b[32m━━━━━━━━━━━━━━━━━━━━\u001b[0m\u001b[37m\u001b[0m \u001b[1m2s\u001b[0m 2ms/step - accuracy: 0.9759 - loss: 0.0855\n",
      "Epoch 5/5\n",
      "\u001b[1m938/938\u001b[0m \u001b[32m━━━━━━━━━━━━━━━━━━━━\u001b[0m\u001b[37m\u001b[0m \u001b[1m2s\u001b[0m 2ms/step - accuracy: 0.9837 - loss: 0.0632\n"
     ]
    }
   ],
   "source": [
    "# Create and train client models\n",
    "client1_model = create_client_model()\n",
    "client2_model = create_client_model()\n",
    "\n",
    "client1_model = train_client_model(client1_model, x_train_c1, y_train_c1)\n",
    "client2_model = train_client_model(client2_model, x_train_c2, y_train_c2)"
   ]
  },
  {
   "cell_type": "code",
   "execution_count": 10,
   "metadata": {
    "id": "Knw07uE74Dgp"
   },
   "outputs": [],
   "source": [
    "# Federated averaging\n",
    "def federated_average_weights(weights1, weights2):\n",
    "    new_weights = []\n",
    "    for w1, w2 in zip(weights1, weights2):\n",
    "        new_weights.append((w1 + w2) / 2)\n",
    "    return new_weights"
   ]
  },
  {
   "cell_type": "code",
   "execution_count": 11,
   "metadata": {
    "id": "ojdtEncJ4DjB"
   },
   "outputs": [],
   "source": [
    "# Aggregate models\n",
    "aggregated_weights = federated_average_weights(client1_model.get_weights(), client2_model.get_weights())"
   ]
  },
  {
   "cell_type": "code",
   "execution_count": 12,
   "metadata": {
    "id": "nnE_5XnS6OUN"
   },
   "outputs": [],
   "source": [
    "# Create global model and set weights\n",
    "global_model = create_client_model()\n",
    "global_model.set_weights(aggregated_weights)\n"
   ]
  },
  {
   "cell_type": "code",
   "execution_count": 13,
   "metadata": {
    "colab": {
     "base_uri": "https://localhost:8080/"
    },
    "id": "cvhzExvp6Qg8",
    "outputId": "4ea8b282-6176-4db4-f726-cc03e9d871c9"
   },
   "outputs": [
    {
     "name": "stdout",
     "output_type": "stream",
     "text": [
      "313/313 - 1s - 2ms/step - accuracy: 0.9228 - loss: 0.3132\n",
      "Test accuracy: 0.9228000044822693\n"
     ]
    }
   ],
   "source": [
    "# Evaluate global model\n",
    "test_loss, test_acc = global_model.evaluate(x_test, y_test, verbose=2)\n",
    "print('Test accuracy:', test_acc)"
   ]
  },
  {
   "cell_type": "code",
   "execution_count": 14,
   "metadata": {
    "id": "yFPUa1ZA6W0E"
   },
   "outputs": [],
   "source": [
    "from sklearn.metrics import classification_report\n",
    "from sklearn.metrics import accuracy_score, precision_score, recall_score, f1_score\n"
   ]
  },
  {
   "cell_type": "code",
   "execution_count": 15,
   "metadata": {
    "colab": {
     "base_uri": "https://localhost:8080/"
    },
    "id": "hFq-8E-36W5E",
    "outputId": "573a7dd3-2367-43aa-bb7e-94a09c27a0e4"
   },
   "outputs": [
    {
     "name": "stdout",
     "output_type": "stream",
     "text": [
      "\u001b[1m313/313\u001b[0m \u001b[32m━━━━━━━━━━━━━━━━━━━━\u001b[0m\u001b[37m\u001b[0m \u001b[1m0s\u001b[0m 1ms/step\n",
      "(10000, 10)\n"
     ]
    }
   ],
   "source": [
    "prediction = global_model.predict(x_test)\n",
    "print(prediction.shape)\n",
    "\n",
    "prediction = list(prediction.argmax(axis=1))"
   ]
  },
  {
   "cell_type": "code",
   "execution_count": 16,
   "metadata": {
    "colab": {
     "base_uri": "https://localhost:8080/"
    },
    "id": "BEKOAJ356XLk",
    "outputId": "12337ddf-3d3f-4c31-eac2-bd53e462aaa0"
   },
   "outputs": [
    {
     "name": "stdout",
     "output_type": "stream",
     "text": [
      "              precision    recall  f1-score   support\n",
      "\n",
      "           0       0.99      0.88      0.93       980\n",
      "           1       0.98      0.98      0.98      1135\n",
      "           2       0.91      0.94      0.93      1032\n",
      "           3       0.86      0.96      0.91      1010\n",
      "           4       0.98      0.91      0.94       982\n",
      "           5       0.78      0.91      0.84       892\n",
      "           6       0.95      0.96      0.95       958\n",
      "           7       0.89      0.96      0.92      1028\n",
      "           8       0.96      0.86      0.91       974\n",
      "           9       0.95      0.87      0.91      1009\n",
      "\n",
      "    accuracy                           0.92     10000\n",
      "   macro avg       0.93      0.92      0.92     10000\n",
      "weighted avg       0.93      0.92      0.92     10000\n",
      "\n"
     ]
    }
   ],
   "source": [
    "print(classification_report(y_test, prediction))"
   ]
  },
  {
   "cell_type": "code",
   "execution_count": 17,
   "metadata": {
    "colab": {
     "base_uri": "https://localhost:8080/"
    },
    "id": "5EsuIANE39qe",
    "outputId": "1f375fc8-2742-4221-9c93-a0bf58e95455"
   },
   "outputs": [
    {
     "name": "stdout",
     "output_type": "stream",
     "text": [
      "Accuracy test set: 0.9228\n",
      "precison test set: 0.9276216276598336\n",
      "Recall test set: 0.9228\n",
      "f-score test set: 0.9234451354651865\n"
     ]
    }
   ],
   "source": [
    "print(\"Accuracy test set:\", accuracy_score(y_test, prediction))\n",
    "print(\"precison test set:\", precision_score(y_test, prediction, average = 'weighted'))\n",
    "print(\"Recall test set:\", recall_score(y_test, prediction, average = 'weighted'))\n",
    "print(\"f-score test set:\", f1_score(y_test, prediction, average = 'weighted'))\n"
   ]
  },
  {
   "cell_type": "code",
   "execution_count": 18,
   "metadata": {
    "id": "g76dDZ7e5PsN"
   },
   "outputs": [],
   "source": [
    "test_precision= []\n",
    "test_recall = []\n",
    "test_f1_score = []\n",
    "test_accuracy=[]"
   ]
  },
  {
   "cell_type": "code",
   "execution_count": 19,
   "metadata": {
    "id": "g2sH9duA_zWS"
   },
   "outputs": [],
   "source": [
    "test_accuracy.append(0.9163)\n",
    "test_precision.append(0.9215082367337915)\n",
    "test_recall.append(0.9163)\n",
    "test_f1_score.append(0.9169298364166276)"
   ]
  },
  {
   "cell_type": "code",
   "execution_count": 20,
   "metadata": {},
   "outputs": [
    {
     "name": "stdout",
     "output_type": "stream",
     "text": [
      "[0.9163]\n",
      "[0.9215082367337915]\n",
      "[0.9163]\n",
      "[0.9169298364166276]\n"
     ]
    }
   ],
   "source": [
    "print(test_accuracy)\n",
    "print(test_precision)\n",
    "print(test_recall)\n",
    "print(test_f1_score)"
   ]
  },
  {
   "cell_type": "markdown",
   "metadata": {
    "id": "D_nZSIjnBfE9"
   },
   "source": [
    "4 clients"
   ]
  },
  {
   "cell_type": "code",
   "execution_count": 21,
   "metadata": {
    "id": "Ol34p-Sy_zoU"
   },
   "outputs": [],
   "source": [
    "# split data into 4 clients"
   ]
  },
  {
   "cell_type": "code",
   "execution_count": 22,
   "metadata": {
    "id": "xEb_yZ1fBizY"
   },
   "outputs": [],
   "source": [
    "client_1 = (x_train[0:15000], y_train[0:15000])\n",
    "client_2 = (x_train[15000:30000], y_train[15000:30000])\n",
    "client_3 = (x_train[30000:45000], y_train[30000:45000])\n",
    "client_4 = (x_train[45000:], y_train[45000:])\n"
   ]
  },
  {
   "cell_type": "code",
   "execution_count": 23,
   "metadata": {
    "colab": {
     "base_uri": "https://localhost:8080/"
    },
    "id": "La4b_ajZBi25",
    "outputId": "92e642ab-78ec-48ce-f8f9-f58492e3cdf6"
   },
   "outputs": [
    {
     "name": "stdout",
     "output_type": "stream",
     "text": [
      "(15000, 28, 28, 1)\n",
      "(15000, 28, 28, 1)\n",
      "(15000, 28, 28, 1)\n",
      "(15000, 28, 28, 1)\n",
      "(15000,)\n",
      "(15000,)\n",
      "(15000,)\n",
      "(15000,)\n"
     ]
    }
   ],
   "source": [
    "print(client_1[0].shape)\n",
    "print(client_2[0].shape)\n",
    "print(client_3[0].shape)\n",
    "print(client_4[0].shape)\n",
    "\n",
    "print(client_1[1].shape)\n",
    "print(client_2[1].shape)\n",
    "print(client_3[1].shape)\n",
    "print(client_4[1].shape)"
   ]
  },
  {
   "cell_type": "code",
   "execution_count": 24,
   "metadata": {
    "colab": {
     "base_uri": "https://localhost:8080/"
    },
    "id": "AIRcHQQLBi5D",
    "outputId": "403ce900-bf3e-4a56-8236-6ed731ed19ee"
   },
   "outputs": [
    {
     "name": "stdout",
     "output_type": "stream",
     "text": [
      "Epoch 1/5\n"
     ]
    },
    {
     "name": "stderr",
     "output_type": "stream",
     "text": [
      "D:\\Anaconda\\Lib\\site-packages\\keras\\src\\layers\\reshaping\\flatten.py:37: UserWarning: Do not pass an `input_shape`/`input_dim` argument to a layer. When using Sequential models, prefer using an `Input(shape)` object as the first layer in the model instead.\n",
      "  super().__init__(**kwargs)\n"
     ]
    },
    {
     "name": "stdout",
     "output_type": "stream",
     "text": [
      "\u001b[1m469/469\u001b[0m \u001b[32m━━━━━━━━━━━━━━━━━━━━\u001b[0m\u001b[37m\u001b[0m \u001b[1m2s\u001b[0m 2ms/step - accuracy: 0.7876 - loss: 0.7437\n",
      "Epoch 2/5\n",
      "\u001b[1m469/469\u001b[0m \u001b[32m━━━━━━━━━━━━━━━━━━━━\u001b[0m\u001b[37m\u001b[0m \u001b[1m1s\u001b[0m 2ms/step - accuracy: 0.9344 - loss: 0.2275\n",
      "Epoch 3/5\n",
      "\u001b[1m469/469\u001b[0m \u001b[32m━━━━━━━━━━━━━━━━━━━━\u001b[0m\u001b[37m\u001b[0m \u001b[1m1s\u001b[0m 2ms/step - accuracy: 0.9578 - loss: 0.1573\n",
      "Epoch 4/5\n",
      "\u001b[1m469/469\u001b[0m \u001b[32m━━━━━━━━━━━━━━━━━━━━\u001b[0m\u001b[37m\u001b[0m \u001b[1m1s\u001b[0m 2ms/step - accuracy: 0.9699 - loss: 0.1142\n",
      "Epoch 5/5\n",
      "\u001b[1m469/469\u001b[0m \u001b[32m━━━━━━━━━━━━━━━━━━━━\u001b[0m\u001b[37m\u001b[0m \u001b[1m1s\u001b[0m 2ms/step - accuracy: 0.9781 - loss: 0.0839\n",
      "Epoch 1/5\n",
      "\u001b[1m469/469\u001b[0m \u001b[32m━━━━━━━━━━━━━━━━━━━━\u001b[0m\u001b[37m\u001b[0m \u001b[1m2s\u001b[0m 2ms/step - accuracy: 0.1032 - loss: 2.3256\n",
      "Epoch 2/5\n",
      "\u001b[1m469/469\u001b[0m \u001b[32m━━━━━━━━━━━━━━━━━━━━\u001b[0m\u001b[37m\u001b[0m \u001b[1m1s\u001b[0m 2ms/step - accuracy: 0.1153 - loss: 2.2958\n",
      "Epoch 3/5\n",
      "\u001b[1m469/469\u001b[0m \u001b[32m━━━━━━━━━━━━━━━━━━━━\u001b[0m\u001b[37m\u001b[0m \u001b[1m1s\u001b[0m 2ms/step - accuracy: 0.1355 - loss: 2.2818\n",
      "Epoch 4/5\n",
      "\u001b[1m469/469\u001b[0m \u001b[32m━━━━━━━━━━━━━━━━━━━━\u001b[0m\u001b[37m\u001b[0m \u001b[1m1s\u001b[0m 2ms/step - accuracy: 0.1454 - loss: 2.2664\n",
      "Epoch 5/5\n",
      "\u001b[1m469/469\u001b[0m \u001b[32m━━━━━━━━━━━━━━━━━━━━\u001b[0m\u001b[37m\u001b[0m \u001b[1m1s\u001b[0m 2ms/step - accuracy: 0.1632 - loss: 2.2459\n",
      "Epoch 1/5\n",
      "\u001b[1m469/469\u001b[0m \u001b[32m━━━━━━━━━━━━━━━━━━━━\u001b[0m\u001b[37m\u001b[0m \u001b[1m2s\u001b[0m 2ms/step - accuracy: 0.1017 - loss: 2.3330\n",
      "Epoch 2/5\n",
      "\u001b[1m469/469\u001b[0m \u001b[32m━━━━━━━━━━━━━━━━━━━━\u001b[0m\u001b[37m\u001b[0m \u001b[1m1s\u001b[0m 2ms/step - accuracy: 0.1176 - loss: 2.2953\n",
      "Epoch 3/5\n",
      "\u001b[1m469/469\u001b[0m \u001b[32m━━━━━━━━━━━━━━━━━━━━\u001b[0m\u001b[37m\u001b[0m \u001b[1m1s\u001b[0m 2ms/step - accuracy: 0.1308 - loss: 2.2832\n",
      "Epoch 4/5\n",
      "\u001b[1m469/469\u001b[0m \u001b[32m━━━━━━━━━━━━━━━━━━━━\u001b[0m\u001b[37m\u001b[0m \u001b[1m1s\u001b[0m 2ms/step - accuracy: 0.1441 - loss: 2.2682\n",
      "Epoch 5/5\n",
      "\u001b[1m469/469\u001b[0m \u001b[32m━━━━━━━━━━━━━━━━━━━━\u001b[0m\u001b[37m\u001b[0m \u001b[1m1s\u001b[0m 2ms/step - accuracy: 0.1583 - loss: 2.2482\n",
      "Epoch 1/5\n",
      "\u001b[1m469/469\u001b[0m \u001b[32m━━━━━━━━━━━━━━━━━━━━\u001b[0m\u001b[37m\u001b[0m \u001b[1m2s\u001b[0m 2ms/step - accuracy: 0.0985 - loss: 2.3317\n",
      "Epoch 2/5\n",
      "\u001b[1m469/469\u001b[0m \u001b[32m━━━━━━━━━━━━━━━━━━━━\u001b[0m\u001b[37m\u001b[0m \u001b[1m1s\u001b[0m 2ms/step - accuracy: 0.1186 - loss: 2.2960\n",
      "Epoch 3/5\n",
      "\u001b[1m469/469\u001b[0m \u001b[32m━━━━━━━━━━━━━━━━━━━━\u001b[0m\u001b[37m\u001b[0m \u001b[1m1s\u001b[0m 2ms/step - accuracy: 0.1319 - loss: 2.2835\n",
      "Epoch 4/5\n",
      "\u001b[1m469/469\u001b[0m \u001b[32m━━━━━━━━━━━━━━━━━━━━\u001b[0m\u001b[37m\u001b[0m \u001b[1m1s\u001b[0m 2ms/step - accuracy: 0.1464 - loss: 2.2655\n",
      "Epoch 5/5\n",
      "\u001b[1m469/469\u001b[0m \u001b[32m━━━━━━━━━━━━━━━━━━━━\u001b[0m\u001b[37m\u001b[0m \u001b[1m1s\u001b[0m 2ms/step - accuracy: 0.1615 - loss: 2.2412\n"
     ]
    }
   ],
   "source": [
    "client1_model = create_client_model()\n",
    "client2_model = create_client_model()\n",
    "client3_model = create_client_model()\n",
    "client4_model = create_client_model()\n",
    "\n",
    "client1_model = train_client_model(client1_model, client_1[0], client_1[1])\n",
    "client2_model = train_client_model(client2_model, client_2[0], client_1[1])\n",
    "client3_model = train_client_model(client3_model, client_3[0], client_1[1])\n",
    "client4_model = train_client_model(client4_model, client_4[0], client_1[1])"
   ]
  },
  {
   "cell_type": "code",
   "execution_count": 25,
   "metadata": {
    "id": "b5XixPAF_zqy"
   },
   "outputs": [],
   "source": [
    "# Federated averaging\n",
    "def federated_average_weights(weights1, weights2, weights3, weights4):\n",
    "    new_weights = []\n",
    "    for w1, w2, w3, w4 in zip(weights1, weights2,  weights3,  weights4):\n",
    "        new_weights.append((w1 + w2 + w3 + w4) / 4)\n",
    "    return new_weights"
   ]
  },
  {
   "cell_type": "code",
   "execution_count": 26,
   "metadata": {
    "id": "iRHs1RAGEZtk"
   },
   "outputs": [],
   "source": [
    "# Aggregate models\n",
    "aggregated_weights = federated_average_weights(client1_model.get_weights(), client2_model.get_weights(), client3_model.get_weights(), client4_model.get_weights())"
   ]
  },
  {
   "cell_type": "code",
   "execution_count": 27,
   "metadata": {
    "colab": {
     "base_uri": "https://localhost:8080/"
    },
    "id": "DfN6GVmJEZv7",
    "outputId": "7634fdf7-5b95-42de-9396-137366fb6cb2"
   },
   "outputs": [
    {
     "name": "stdout",
     "output_type": "stream",
     "text": [
      "313/313 - 1s - 2ms/step - accuracy: 0.3333 - loss: 2.2371\n",
      "Test accuracy: 0.33329999446868896\n"
     ]
    }
   ],
   "source": [
    "# Create global model and set weights\n",
    "global_model = create_client_model()\n",
    "global_model.set_weights(aggregated_weights)\n",
    "\n",
    "# Evaluate global model\n",
    "test_loss, test_acc = global_model.evaluate(x_test, y_test, verbose=2)\n",
    "print('Test accuracy:', test_acc)"
   ]
  },
  {
   "cell_type": "code",
   "execution_count": 28,
   "metadata": {
    "colab": {
     "base_uri": "https://localhost:8080/"
    },
    "id": "s8fZXim3EZyL",
    "outputId": "329f5eee-a6e1-4cea-e660-6e49982ade94"
   },
   "outputs": [
    {
     "name": "stdout",
     "output_type": "stream",
     "text": [
      "\u001b[1m313/313\u001b[0m \u001b[32m━━━━━━━━━━━━━━━━━━━━\u001b[0m\u001b[37m\u001b[0m \u001b[1m0s\u001b[0m 1ms/step\n",
      "(10000, 10)\n"
     ]
    }
   ],
   "source": [
    "prediction = global_model.predict(x_test)\n",
    "print(prediction.shape)\n",
    "\n",
    "prediction = list(prediction.argmax(axis=1))"
   ]
  },
  {
   "cell_type": "code",
   "execution_count": 29,
   "metadata": {
    "colab": {
     "base_uri": "https://localhost:8080/"
    },
    "id": "2husRH-OEZ0c",
    "outputId": "7cbbfd7c-2870-4755-893b-a32aa6951c86"
   },
   "outputs": [
    {
     "name": "stdout",
     "output_type": "stream",
     "text": [
      "Accuracy test set: 0.3333\n",
      "precison test set: 0.4300590958187017\n",
      "Recall test set: 0.3333\n",
      "f-score test set: 0.2994137942681089\n"
     ]
    }
   ],
   "source": [
    "print(\"Accuracy test set:\", accuracy_score(y_test, prediction))\n",
    "print(\"precison test set:\", precision_score(y_test, prediction, average = 'weighted'))\n",
    "print(\"Recall test set:\", recall_score(y_test, prediction, average = 'weighted'))\n",
    "print(\"f-score test set:\", f1_score(y_test, prediction, average = 'weighted'))"
   ]
  },
  {
   "cell_type": "code",
   "execution_count": 30,
   "metadata": {},
   "outputs": [],
   "source": [
    "test_accuracy.append(0.3284)\n",
    "test_precision.append(0.4848525535059179)\n",
    "test_recall.append(0.3284)\n",
    "test_f1_score.append(0.2975957444966415)"
   ]
  },
  {
   "cell_type": "code",
   "execution_count": 31,
   "metadata": {},
   "outputs": [
    {
     "name": "stdout",
     "output_type": "stream",
     "text": [
      "[0.9163, 0.3284]\n",
      "[0.9215082367337915, 0.4848525535059179]\n",
      "[0.9163, 0.3284]\n",
      "[0.9169298364166276, 0.2975957444966415]\n"
     ]
    }
   ],
   "source": [
    "print(test_accuracy)\n",
    "print(test_precision)\n",
    "print(test_recall)\n",
    "print(test_f1_score)"
   ]
  },
  {
   "cell_type": "markdown",
   "metadata": {
    "id": "YWQqronzGcEn"
   },
   "source": [
    "6 clients cell\n"
   ]
  },
  {
   "cell_type": "code",
   "execution_count": 32,
   "metadata": {
    "id": "OUN9YHRYGd4w"
   },
   "outputs": [],
   "source": [
    "client_1 = (x_train[0:10000], y_train[0:10000])\n",
    "client_2 = (x_train[10000:20000], y_train[10000:20000])\n",
    "client_3 = (x_train[20000:30000], y_train[20000:30000])\n",
    "client_4 = (x_train[30000:40000], y_train[30000:40000])\n",
    "client_5 = (x_train[40000:50000], y_train[40000:50000])\n",
    "client_6 = (x_train[50000:], y_train[50000:])"
   ]
  },
  {
   "cell_type": "code",
   "execution_count": 33,
   "metadata": {
    "colab": {
     "base_uri": "https://localhost:8080/"
    },
    "id": "8ZulvDQEGXgS",
    "outputId": "051b2727-8625-43a7-e2c4-3d6d48f342b2"
   },
   "outputs": [
    {
     "name": "stdout",
     "output_type": "stream",
     "text": [
      "(10000, 28, 28, 1)\n",
      "(10000, 28, 28, 1)\n",
      "(10000, 28, 28, 1)\n",
      "(10000, 28, 28, 1)\n",
      "(10000, 28, 28, 1)\n",
      "(10000, 28, 28, 1)\n",
      "(10000,)\n",
      "(10000,)\n",
      "(10000,)\n",
      "(10000,)\n",
      "(10000,)\n",
      "(10000,)\n"
     ]
    }
   ],
   "source": [
    "print(client_1[0].shape)\n",
    "print(client_2[0].shape)\n",
    "print(client_3[0].shape)\n",
    "print(client_4[0].shape)\n",
    "print(client_5[0].shape)\n",
    "print(client_6[0].shape)\n",
    "\n",
    "print(client_1[1].shape)\n",
    "print(client_2[1].shape)\n",
    "print(client_3[1].shape)\n",
    "print(client_4[1].shape)\n",
    "print(client_5[1].shape)\n",
    "print(client_6[1].shape)"
   ]
  },
  {
   "cell_type": "code",
   "execution_count": 34,
   "metadata": {
    "colab": {
     "base_uri": "https://localhost:8080/"
    },
    "id": "3odWh-mwGXip",
    "outputId": "67730390-02ec-4bfc-a6cd-b0ae81990240"
   },
   "outputs": [
    {
     "name": "stdout",
     "output_type": "stream",
     "text": [
      "Epoch 1/5\n"
     ]
    },
    {
     "name": "stderr",
     "output_type": "stream",
     "text": [
      "D:\\Anaconda\\Lib\\site-packages\\keras\\src\\layers\\reshaping\\flatten.py:37: UserWarning: Do not pass an `input_shape`/`input_dim` argument to a layer. When using Sequential models, prefer using an `Input(shape)` object as the first layer in the model instead.\n",
      "  super().__init__(**kwargs)\n"
     ]
    },
    {
     "name": "stdout",
     "output_type": "stream",
     "text": [
      "\u001b[1m313/313\u001b[0m \u001b[32m━━━━━━━━━━━━━━━━━━━━\u001b[0m\u001b[37m\u001b[0m \u001b[1m2s\u001b[0m 2ms/step - accuracy: 0.7653 - loss: 0.8474\n",
      "Epoch 2/5\n",
      "\u001b[1m313/313\u001b[0m \u001b[32m━━━━━━━━━━━━━━━━━━━━\u001b[0m\u001b[37m\u001b[0m \u001b[1m1s\u001b[0m 2ms/step - accuracy: 0.9266 - loss: 0.2681\n",
      "Epoch 3/5\n",
      "\u001b[1m313/313\u001b[0m \u001b[32m━━━━━━━━━━━━━━━━━━━━\u001b[0m\u001b[37m\u001b[0m \u001b[1m1s\u001b[0m 2ms/step - accuracy: 0.9484 - loss: 0.1893\n",
      "Epoch 4/5\n",
      "\u001b[1m313/313\u001b[0m \u001b[32m━━━━━━━━━━━━━━━━━━━━\u001b[0m\u001b[37m\u001b[0m \u001b[1m1s\u001b[0m 2ms/step - accuracy: 0.9624 - loss: 0.1435\n",
      "Epoch 5/5\n",
      "\u001b[1m313/313\u001b[0m \u001b[32m━━━━━━━━━━━━━━━━━━━━\u001b[0m\u001b[37m\u001b[0m \u001b[1m1s\u001b[0m 2ms/step - accuracy: 0.9729 - loss: 0.1130\n",
      "Epoch 1/5\n",
      "\u001b[1m313/313\u001b[0m \u001b[32m━━━━━━━━━━━━━━━━━━━━\u001b[0m\u001b[37m\u001b[0m \u001b[1m2s\u001b[0m 2ms/step - accuracy: 0.1020 - loss: 2.3350\n",
      "Epoch 2/5\n",
      "\u001b[1m313/313\u001b[0m \u001b[32m━━━━━━━━━━━━━━━━━━━━\u001b[0m\u001b[37m\u001b[0m \u001b[1m1s\u001b[0m 2ms/step - accuracy: 0.1220 - loss: 2.2915\n",
      "Epoch 3/5\n",
      "\u001b[1m313/313\u001b[0m \u001b[32m━━━━━━━━━━━━━━━━━━━━\u001b[0m\u001b[37m\u001b[0m \u001b[1m1s\u001b[0m 2ms/step - accuracy: 0.1426 - loss: 2.2711\n",
      "Epoch 4/5\n",
      "\u001b[1m313/313\u001b[0m \u001b[32m━━━━━━━━━━━━━━━━━━━━\u001b[0m\u001b[37m\u001b[0m \u001b[1m1s\u001b[0m 2ms/step - accuracy: 0.1622 - loss: 2.2482\n",
      "Epoch 5/5\n",
      "\u001b[1m313/313\u001b[0m \u001b[32m━━━━━━━━━━━━━━━━━━━━\u001b[0m\u001b[37m\u001b[0m \u001b[1m1s\u001b[0m 2ms/step - accuracy: 0.1925 - loss: 2.2159\n",
      "Epoch 1/5\n",
      "\u001b[1m313/313\u001b[0m \u001b[32m━━━━━━━━━━━━━━━━━━━━\u001b[0m\u001b[37m\u001b[0m \u001b[1m1s\u001b[0m 2ms/step - accuracy: 0.0982 - loss: 2.3347\n",
      "Epoch 2/5\n",
      "\u001b[1m313/313\u001b[0m \u001b[32m━━━━━━━━━━━━━━━━━━━━\u001b[0m\u001b[37m\u001b[0m \u001b[1m1s\u001b[0m 2ms/step - accuracy: 0.1331 - loss: 2.2903\n",
      "Epoch 3/5\n",
      "\u001b[1m313/313\u001b[0m \u001b[32m━━━━━━━━━━━━━━━━━━━━\u001b[0m\u001b[37m\u001b[0m \u001b[1m1s\u001b[0m 2ms/step - accuracy: 0.1469 - loss: 2.2718\n",
      "Epoch 4/5\n",
      "\u001b[1m313/313\u001b[0m \u001b[32m━━━━━━━━━━━━━━━━━━━━\u001b[0m\u001b[37m\u001b[0m \u001b[1m1s\u001b[0m 2ms/step - accuracy: 0.1652 - loss: 2.2501\n",
      "Epoch 5/5\n",
      "\u001b[1m313/313\u001b[0m \u001b[32m━━━━━━━━━━━━━━━━━━━━\u001b[0m\u001b[37m\u001b[0m \u001b[1m1s\u001b[0m 2ms/step - accuracy: 0.1787 - loss: 2.2251\n",
      "Epoch 1/5\n",
      "\u001b[1m313/313\u001b[0m \u001b[32m━━━━━━━━━━━━━━━━━━━━\u001b[0m\u001b[37m\u001b[0m \u001b[1m2s\u001b[0m 2ms/step - accuracy: 0.0953 - loss: 2.3397\n",
      "Epoch 2/5\n",
      "\u001b[1m313/313\u001b[0m \u001b[32m━━━━━━━━━━━━━━━━━━━━\u001b[0m\u001b[37m\u001b[0m \u001b[1m1s\u001b[0m 2ms/step - accuracy: 0.1288 - loss: 2.2868\n",
      "Epoch 3/5\n",
      "\u001b[1m313/313\u001b[0m \u001b[32m━━━━━━━━━━━━━━━━━━━━\u001b[0m\u001b[37m\u001b[0m \u001b[1m1s\u001b[0m 2ms/step - accuracy: 0.1497 - loss: 2.2660\n",
      "Epoch 4/5\n",
      "\u001b[1m313/313\u001b[0m \u001b[32m━━━━━━━━━━━━━━━━━━━━\u001b[0m\u001b[37m\u001b[0m \u001b[1m1s\u001b[0m 2ms/step - accuracy: 0.1682 - loss: 2.2396\n",
      "Epoch 5/5\n",
      "\u001b[1m313/313\u001b[0m \u001b[32m━━━━━━━━━━━━━━━━━━━━\u001b[0m\u001b[37m\u001b[0m \u001b[1m1s\u001b[0m 2ms/step - accuracy: 0.1961 - loss: 2.2065\n",
      "Epoch 1/5\n",
      "\u001b[1m313/313\u001b[0m \u001b[32m━━━━━━━━━━━━━━━━━━━━\u001b[0m\u001b[37m\u001b[0m \u001b[1m2s\u001b[0m 2ms/step - accuracy: 0.1073 - loss: 2.3366\n",
      "Epoch 2/5\n",
      "\u001b[1m313/313\u001b[0m \u001b[32m━━━━━━━━━━━━━━━━━━━━\u001b[0m\u001b[37m\u001b[0m \u001b[1m1s\u001b[0m 2ms/step - accuracy: 0.1386 - loss: 2.2851\n",
      "Epoch 3/5\n",
      "\u001b[1m313/313\u001b[0m \u001b[32m━━━━━━━━━━━━━━━━━━━━\u001b[0m\u001b[37m\u001b[0m \u001b[1m1s\u001b[0m 2ms/step - accuracy: 0.1497 - loss: 2.2643\n",
      "Epoch 4/5\n",
      "\u001b[1m313/313\u001b[0m \u001b[32m━━━━━━━━━━━━━━━━━━━━\u001b[0m\u001b[37m\u001b[0m \u001b[1m1s\u001b[0m 2ms/step - accuracy: 0.1785 - loss: 2.2361\n",
      "Epoch 5/5\n",
      "\u001b[1m313/313\u001b[0m \u001b[32m━━━━━━━━━━━━━━━━━━━━\u001b[0m\u001b[37m\u001b[0m \u001b[1m1s\u001b[0m 2ms/step - accuracy: 0.1980 - loss: 2.2037\n",
      "Epoch 1/5\n",
      "\u001b[1m313/313\u001b[0m \u001b[32m━━━━━━━━━━━━━━━━━━━━\u001b[0m\u001b[37m\u001b[0m \u001b[1m2s\u001b[0m 2ms/step - accuracy: 0.1023 - loss: 2.3270\n",
      "Epoch 2/5\n",
      "\u001b[1m313/313\u001b[0m \u001b[32m━━━━━━━━━━━━━━━━━━━━\u001b[0m\u001b[37m\u001b[0m \u001b[1m1s\u001b[0m 2ms/step - accuracy: 0.1323 - loss: 2.2912\n",
      "Epoch 3/5\n",
      "\u001b[1m313/313\u001b[0m \u001b[32m━━━━━━━━━━━━━━━━━━━━\u001b[0m\u001b[37m\u001b[0m \u001b[1m1s\u001b[0m 2ms/step - accuracy: 0.1460 - loss: 2.2741\n",
      "Epoch 4/5\n",
      "\u001b[1m313/313\u001b[0m \u001b[32m━━━━━━━━━━━━━━━━━━━━\u001b[0m\u001b[37m\u001b[0m \u001b[1m1s\u001b[0m 2ms/step - accuracy: 0.1624 - loss: 2.2499\n",
      "Epoch 5/5\n",
      "\u001b[1m313/313\u001b[0m \u001b[32m━━━━━━━━━━━━━━━━━━━━\u001b[0m\u001b[37m\u001b[0m \u001b[1m1s\u001b[0m 2ms/step - accuracy: 0.1767 - loss: 2.2234\n"
     ]
    }
   ],
   "source": [
    "client1_model = create_client_model()\n",
    "client2_model = create_client_model()\n",
    "client3_model = create_client_model()\n",
    "client4_model = create_client_model()\n",
    "client5_model = create_client_model()\n",
    "client6_model = create_client_model()\n",
    "\n",
    "client1_model = train_client_model(client1_model, client_1[0], client_1[1])\n",
    "client2_model = train_client_model(client2_model, client_2[0], client_1[1])\n",
    "client3_model = train_client_model(client3_model, client_3[0], client_1[1])\n",
    "client4_model = train_client_model(client4_model, client_4[0], client_1[1])\n",
    "client5_model = train_client_model(client5_model, client_5[0], client_1[1])\n",
    "client6_model = train_client_model(client6_model, client_6[0], client_1[1])"
   ]
  },
  {
   "cell_type": "code",
   "execution_count": 35,
   "metadata": {
    "id": "B5MLqCAHGXlC"
   },
   "outputs": [],
   "source": [
    "# Federated averaging\n",
    "def federated_average_weights(weights1, weights2, weights3, weights4, weights5, weights6):\n",
    "    new_weights = []\n",
    "    for w1, w2, w3, w4, w5, w6 in zip(weights1, weights2,  weights3,  weights4, weights5, weights6):\n",
    "        new_weights.append((w1 + w2 + w3 + w4 + w5 + w6) / 6)\n",
    "    return new_weights"
   ]
  },
  {
   "cell_type": "code",
   "execution_count": 36,
   "metadata": {
    "id": "CuinGGgdGXnK"
   },
   "outputs": [],
   "source": [
    "# Aggregate models\n",
    "aggregated_weights = federated_average_weights(client1_model.get_weights(), client2_model.get_weights(), client3_model.get_weights(), client4_model.get_weights(),client5_model.get_weights(),client6_model.get_weights())"
   ]
  },
  {
   "cell_type": "code",
   "execution_count": 37,
   "metadata": {
    "colab": {
     "base_uri": "https://localhost:8080/"
    },
    "id": "qY02p3OFGXpk",
    "outputId": "fc6752c3-8142-438e-fc7c-00b7134ecba5"
   },
   "outputs": [
    {
     "name": "stdout",
     "output_type": "stream",
     "text": [
      "313/313 - 1s - 2ms/step - accuracy: 0.1504 - loss: 2.2963\n",
      "Test accuracy: 0.15039999783039093\n"
     ]
    }
   ],
   "source": [
    "# Create global model and set weights\n",
    "global_model = create_client_model()\n",
    "global_model.set_weights(aggregated_weights)\n",
    "\n",
    "# Evaluate global model\n",
    "test_loss, test_acc = global_model.evaluate(x_test, y_test, verbose=2)\n",
    "print('Test accuracy:', test_acc)"
   ]
  },
  {
   "cell_type": "code",
   "execution_count": 38,
   "metadata": {
    "colab": {
     "base_uri": "https://localhost:8080/"
    },
    "id": "ctaORnw8GXrx",
    "outputId": "73367caf-598d-4f87-901d-c440d992eef8"
   },
   "outputs": [
    {
     "name": "stdout",
     "output_type": "stream",
     "text": [
      "\u001b[1m313/313\u001b[0m \u001b[32m━━━━━━━━━━━━━━━━━━━━\u001b[0m\u001b[37m\u001b[0m \u001b[1m0s\u001b[0m 1ms/step\n",
      "(10000, 10)\n"
     ]
    }
   ],
   "source": [
    "prediction = global_model.predict(x_test)\n",
    "print(prediction.shape)\n",
    "\n",
    "prediction = list(prediction.argmax(axis=1))"
   ]
  },
  {
   "cell_type": "code",
   "execution_count": 39,
   "metadata": {
    "colab": {
     "base_uri": "https://localhost:8080/"
    },
    "id": "iYSLKm-YGXt5",
    "outputId": "7b24fba3-e0d2-42ae-aee0-026604ebf719"
   },
   "outputs": [
    {
     "name": "stdout",
     "output_type": "stream",
     "text": [
      "Accuracy test set: 0.1504\n",
      "precison test set: 0.15463552696696992\n",
      "Recall test set: 0.1504\n",
      "f-score test set: 0.09640549205188623\n"
     ]
    }
   ],
   "source": [
    "print(\"Accuracy test set:\", accuracy_score(y_test, prediction))\n",
    "print(\"precison test set:\", precision_score(y_test, prediction, average = 'weighted'))\n",
    "print(\"Recall test set:\", recall_score(y_test, prediction, average = 'weighted'))\n",
    "print(\"f-score test set:\", f1_score(y_test, prediction, average = 'weighted'))"
   ]
  },
  {
   "cell_type": "code",
   "execution_count": 40,
   "metadata": {},
   "outputs": [],
   "source": [
    "test_accuracy.append(0.1518)\n",
    "test_precision.append(0.15683234386034006)\n",
    "test_recall.append(0.1518)\n",
    "test_f1_score.append(0.12918649178542027)"
   ]
  },
  {
   "cell_type": "code",
   "execution_count": 41,
   "metadata": {},
   "outputs": [
    {
     "name": "stdout",
     "output_type": "stream",
     "text": [
      "[0.9163, 0.3284, 0.1518]\n",
      "[0.9215082367337915, 0.4848525535059179, 0.15683234386034006]\n",
      "[0.9163, 0.3284, 0.1518]\n",
      "[0.9169298364166276, 0.2975957444966415, 0.12918649178542027]\n"
     ]
    }
   ],
   "source": [
    "print(test_accuracy)\n",
    "print(test_precision)\n",
    "print(test_recall)\n",
    "print(test_f1_score)"
   ]
  },
  {
   "cell_type": "markdown",
   "metadata": {
    "id": "WmYXCZHwKifS"
   },
   "source": [
    "8 clients\n"
   ]
  },
  {
   "cell_type": "code",
   "execution_count": 42,
   "metadata": {
    "id": "l_vWSCvJGXwj"
   },
   "outputs": [],
   "source": [
    "client_1 = (x_train[0:7500], y_train[0:7500])\n",
    "client_2 = (x_train[7500:15000], y_train[7500:15000])\n",
    "client_3 = (x_train[15000:22500], y_train[15000:22500])\n",
    "client_4 = (x_train[22500:30000], y_train[22500:30000])\n",
    "client_5 = (x_train[30000:37500], y_train[30000:37500])\n",
    "client_6 = (x_train[37500:45000], y_train[37500:45000])\n",
    "client_7 = (x_train[45000:52500], y_train[45000:52500])\n",
    "client_8 = (x_train[52500:], y_train[52500:]) "
   ]
  },
  {
   "cell_type": "code",
   "execution_count": 43,
   "metadata": {
    "id": "eYS0Vw5vJwW-"
   },
   "outputs": [
    {
     "name": "stdout",
     "output_type": "stream",
     "text": [
      "(7500, 28, 28, 1)\n",
      "(7500, 28, 28, 1)\n",
      "(7500, 28, 28, 1)\n",
      "(7500, 28, 28, 1)\n",
      "(7500, 28, 28, 1)\n",
      "(7500, 28, 28, 1)\n",
      "(7500, 28, 28, 1)\n",
      "(7500, 28, 28, 1)\n",
      "(7500,)\n",
      "(7500,)\n",
      "(7500,)\n",
      "(7500,)\n",
      "(7500,)\n",
      "(7500,)\n",
      "(7500,)\n",
      "(7500,)\n"
     ]
    }
   ],
   "source": [
    "print(client_1[0].shape)\n",
    "print(client_2[0].shape)\n",
    "print(client_3[0].shape)\n",
    "print(client_4[0].shape)\n",
    "print(client_5[0].shape)\n",
    "print(client_6[0].shape)\n",
    "print(client_7[0].shape)\n",
    "print(client_8[0].shape)\n",
    "\n",
    "print(client_1[1].shape)\n",
    "print(client_2[1].shape)\n",
    "print(client_3[1].shape)\n",
    "print(client_4[1].shape)\n",
    "print(client_5[1].shape)\n",
    "print(client_6[1].shape)\n",
    "print(client_7[1].shape)\n",
    "print(client_8[1].shape)"
   ]
  },
  {
   "cell_type": "code",
   "execution_count": 44,
   "metadata": {
    "id": "cG6Wf5jyJwZV"
   },
   "outputs": [
    {
     "name": "stderr",
     "output_type": "stream",
     "text": [
      "D:\\Anaconda\\Lib\\site-packages\\keras\\src\\layers\\reshaping\\flatten.py:37: UserWarning: Do not pass an `input_shape`/`input_dim` argument to a layer. When using Sequential models, prefer using an `Input(shape)` object as the first layer in the model instead.\n",
      "  super().__init__(**kwargs)\n"
     ]
    },
    {
     "name": "stdout",
     "output_type": "stream",
     "text": [
      "Epoch 1/5\n",
      "\u001b[1m235/235\u001b[0m \u001b[32m━━━━━━━━━━━━━━━━━━━━\u001b[0m\u001b[37m\u001b[0m \u001b[1m2s\u001b[0m 2ms/step - accuracy: 0.7174 - loss: 0.9795\n",
      "Epoch 2/5\n",
      "\u001b[1m235/235\u001b[0m \u001b[32m━━━━━━━━━━━━━━━━━━━━\u001b[0m\u001b[37m\u001b[0m \u001b[1m0s\u001b[0m 2ms/step - accuracy: 0.9223 - loss: 0.2882\n",
      "Epoch 3/5\n",
      "\u001b[1m235/235\u001b[0m \u001b[32m━━━━━━━━━━━━━━━━━━━━\u001b[0m\u001b[37m\u001b[0m \u001b[1m0s\u001b[0m 2ms/step - accuracy: 0.9424 - loss: 0.2096\n",
      "Epoch 4/5\n",
      "\u001b[1m235/235\u001b[0m \u001b[32m━━━━━━━━━━━━━━━━━━━━\u001b[0m\u001b[37m\u001b[0m \u001b[1m0s\u001b[0m 2ms/step - accuracy: 0.9558 - loss: 0.1594\n",
      "Epoch 5/5\n",
      "\u001b[1m235/235\u001b[0m \u001b[32m━━━━━━━━━━━━━━━━━━━━\u001b[0m\u001b[37m\u001b[0m \u001b[1m0s\u001b[0m 2ms/step - accuracy: 0.9675 - loss: 0.1240\n",
      "Epoch 1/5\n",
      "\u001b[1m235/235\u001b[0m \u001b[32m━━━━━━━━━━━━━━━━━━━━\u001b[0m\u001b[37m\u001b[0m \u001b[1m1s\u001b[0m 2ms/step - accuracy: 0.7236 - loss: 0.9753\n",
      "Epoch 2/5\n",
      "\u001b[1m235/235\u001b[0m \u001b[32m━━━━━━━━━━━━━━━━━━━━\u001b[0m\u001b[37m\u001b[0m \u001b[1m0s\u001b[0m 2ms/step - accuracy: 0.9132 - loss: 0.3010\n",
      "Epoch 3/5\n",
      "\u001b[1m235/235\u001b[0m \u001b[32m━━━━━━━━━━━━━━━━━━━━\u001b[0m\u001b[37m\u001b[0m \u001b[1m0s\u001b[0m 2ms/step - accuracy: 0.9381 - loss: 0.2190\n",
      "Epoch 4/5\n",
      "\u001b[1m235/235\u001b[0m \u001b[32m━━━━━━━━━━━━━━━━━━━━\u001b[0m\u001b[37m\u001b[0m \u001b[1m0s\u001b[0m 2ms/step - accuracy: 0.9543 - loss: 0.1694\n",
      "Epoch 5/5\n",
      "\u001b[1m235/235\u001b[0m \u001b[32m━━━━━━━━━━━━━━━━━━━━\u001b[0m\u001b[37m\u001b[0m \u001b[1m0s\u001b[0m 2ms/step - accuracy: 0.9632 - loss: 0.1340\n",
      "Epoch 1/5\n",
      "\u001b[1m235/235\u001b[0m \u001b[32m━━━━━━━━━━━━━━━━━━━━\u001b[0m\u001b[37m\u001b[0m \u001b[1m1s\u001b[0m 2ms/step - accuracy: 0.7207 - loss: 0.9744\n",
      "Epoch 2/5\n",
      "\u001b[1m235/235\u001b[0m \u001b[32m━━━━━━━━━━━━━━━━━━━━\u001b[0m\u001b[37m\u001b[0m \u001b[1m0s\u001b[0m 2ms/step - accuracy: 0.9176 - loss: 0.3079\n",
      "Epoch 3/5\n",
      "\u001b[1m235/235\u001b[0m \u001b[32m━━━━━━━━━━━━━━━━━━━━\u001b[0m\u001b[37m\u001b[0m \u001b[1m0s\u001b[0m 2ms/step - accuracy: 0.9378 - loss: 0.2304\n",
      "Epoch 4/5\n",
      "\u001b[1m235/235\u001b[0m \u001b[32m━━━━━━━━━━━━━━━━━━━━\u001b[0m\u001b[37m\u001b[0m \u001b[1m0s\u001b[0m 2ms/step - accuracy: 0.9517 - loss: 0.1805\n",
      "Epoch 5/5\n",
      "\u001b[1m235/235\u001b[0m \u001b[32m━━━━━━━━━━━━━━━━━━━━\u001b[0m\u001b[37m\u001b[0m \u001b[1m0s\u001b[0m 2ms/step - accuracy: 0.9631 - loss: 0.1439\n",
      "Epoch 1/5\n",
      "\u001b[1m235/235\u001b[0m \u001b[32m━━━━━━━━━━━━━━━━━━━━\u001b[0m\u001b[37m\u001b[0m \u001b[1m1s\u001b[0m 2ms/step - accuracy: 0.7337 - loss: 0.9455\n",
      "Epoch 2/5\n",
      "\u001b[1m235/235\u001b[0m \u001b[32m━━━━━━━━━━━━━━━━━━━━\u001b[0m\u001b[37m\u001b[0m \u001b[1m0s\u001b[0m 2ms/step - accuracy: 0.9146 - loss: 0.2938\n",
      "Epoch 3/5\n",
      "\u001b[1m235/235\u001b[0m \u001b[32m━━━━━━━━━━━━━━━━━━━━\u001b[0m\u001b[37m\u001b[0m \u001b[1m0s\u001b[0m 2ms/step - accuracy: 0.9366 - loss: 0.2121\n",
      "Epoch 4/5\n",
      "\u001b[1m235/235\u001b[0m \u001b[32m━━━━━━━━━━━━━━━━━━━━\u001b[0m\u001b[37m\u001b[0m \u001b[1m0s\u001b[0m 2ms/step - accuracy: 0.9546 - loss: 0.1600\n",
      "Epoch 5/5\n",
      "\u001b[1m235/235\u001b[0m \u001b[32m━━━━━━━━━━━━━━━━━━━━\u001b[0m\u001b[37m\u001b[0m \u001b[1m0s\u001b[0m 2ms/step - accuracy: 0.9689 - loss: 0.1228\n",
      "Epoch 1/5\n",
      "\u001b[1m235/235\u001b[0m \u001b[32m━━━━━━━━━━━━━━━━━━━━\u001b[0m\u001b[37m\u001b[0m \u001b[1m1s\u001b[0m 2ms/step - accuracy: 0.7181 - loss: 0.9979\n",
      "Epoch 2/5\n",
      "\u001b[1m235/235\u001b[0m \u001b[32m━━━━━━━━━━━━━━━━━━━━\u001b[0m\u001b[37m\u001b[0m \u001b[1m0s\u001b[0m 2ms/step - accuracy: 0.9117 - loss: 0.3113\n",
      "Epoch 3/5\n",
      "\u001b[1m235/235\u001b[0m \u001b[32m━━━━━━━━━━━━━━━━━━━━\u001b[0m\u001b[37m\u001b[0m \u001b[1m0s\u001b[0m 2ms/step - accuracy: 0.9365 - loss: 0.2251\n",
      "Epoch 4/5\n",
      "\u001b[1m235/235\u001b[0m \u001b[32m━━━━━━━━━━━━━━━━━━━━\u001b[0m\u001b[37m\u001b[0m \u001b[1m0s\u001b[0m 2ms/step - accuracy: 0.9513 - loss: 0.1721\n",
      "Epoch 5/5\n",
      "\u001b[1m235/235\u001b[0m \u001b[32m━━━━━━━━━━━━━━━━━━━━\u001b[0m\u001b[37m\u001b[0m \u001b[1m0s\u001b[0m 2ms/step - accuracy: 0.9632 - loss: 0.1330\n",
      "Epoch 1/5\n",
      "\u001b[1m235/235\u001b[0m \u001b[32m━━━━━━━━━━━━━━━━━━━━\u001b[0m\u001b[37m\u001b[0m \u001b[1m2s\u001b[0m 2ms/step - accuracy: 0.7145 - loss: 0.9893\n",
      "Epoch 2/5\n",
      "\u001b[1m235/235\u001b[0m \u001b[32m━━━━━━━━━━━━━━━━━━━━\u001b[0m\u001b[37m\u001b[0m \u001b[1m0s\u001b[0m 2ms/step - accuracy: 0.9112 - loss: 0.3036\n",
      "Epoch 3/5\n",
      "\u001b[1m235/235\u001b[0m \u001b[32m━━━━━━━━━━━━━━━━━━━━\u001b[0m\u001b[37m\u001b[0m \u001b[1m0s\u001b[0m 2ms/step - accuracy: 0.9326 - loss: 0.2230\n",
      "Epoch 4/5\n",
      "\u001b[1m235/235\u001b[0m \u001b[32m━━━━━━━━━━━━━━━━━━━━\u001b[0m\u001b[37m\u001b[0m \u001b[1m0s\u001b[0m 2ms/step - accuracy: 0.9490 - loss: 0.1709\n",
      "Epoch 5/5\n",
      "\u001b[1m235/235\u001b[0m \u001b[32m━━━━━━━━━━━━━━━━━━━━\u001b[0m\u001b[37m\u001b[0m \u001b[1m0s\u001b[0m 2ms/step - accuracy: 0.9649 - loss: 0.1328\n",
      "Epoch 1/5\n",
      "\u001b[1m235/235\u001b[0m \u001b[32m━━━━━━━━━━━━━━━━━━━━\u001b[0m\u001b[37m\u001b[0m \u001b[1m1s\u001b[0m 2ms/step - accuracy: 0.7206 - loss: 0.9711\n",
      "Epoch 2/5\n",
      "\u001b[1m235/235\u001b[0m \u001b[32m━━━━━━━━━━━━━━━━━━━━\u001b[0m\u001b[37m\u001b[0m \u001b[1m0s\u001b[0m 2ms/step - accuracy: 0.9144 - loss: 0.3193\n",
      "Epoch 3/5\n",
      "\u001b[1m235/235\u001b[0m \u001b[32m━━━━━━━━━━━━━━━━━━━━\u001b[0m\u001b[37m\u001b[0m \u001b[1m0s\u001b[0m 2ms/step - accuracy: 0.9340 - loss: 0.2369\n",
      "Epoch 4/5\n",
      "\u001b[1m235/235\u001b[0m \u001b[32m━━━━━━━━━━━━━━━━━━━━\u001b[0m\u001b[37m\u001b[0m \u001b[1m0s\u001b[0m 2ms/step - accuracy: 0.9500 - loss: 0.1855\n",
      "Epoch 5/5\n",
      "\u001b[1m235/235\u001b[0m \u001b[32m━━━━━━━━━━━━━━━━━━━━\u001b[0m\u001b[37m\u001b[0m \u001b[1m0s\u001b[0m 2ms/step - accuracy: 0.9603 - loss: 0.1487\n",
      "Epoch 1/5\n",
      "\u001b[1m235/235\u001b[0m \u001b[32m━━━━━━━━━━━━━━━━━━━━\u001b[0m\u001b[37m\u001b[0m \u001b[1m1s\u001b[0m 2ms/step - accuracy: 0.7471 - loss: 0.9093\n",
      "Epoch 2/5\n",
      "\u001b[1m235/235\u001b[0m \u001b[32m━━━━━━━━━━━━━━━━━━━━\u001b[0m\u001b[37m\u001b[0m \u001b[1m0s\u001b[0m 2ms/step - accuracy: 0.9281 - loss: 0.2523\n",
      "Epoch 3/5\n",
      "\u001b[1m235/235\u001b[0m \u001b[32m━━━━━━━━━━━━━━━━━━━━\u001b[0m\u001b[37m\u001b[0m \u001b[1m0s\u001b[0m 2ms/step - accuracy: 0.9493 - loss: 0.1855\n",
      "Epoch 4/5\n",
      "\u001b[1m235/235\u001b[0m \u001b[32m━━━━━━━━━━━━━━━━━━━━\u001b[0m\u001b[37m\u001b[0m \u001b[1m0s\u001b[0m 2ms/step - accuracy: 0.9609 - loss: 0.1444\n",
      "Epoch 5/5\n",
      "\u001b[1m235/235\u001b[0m \u001b[32m━━━━━━━━━━━━━━━━━━━━\u001b[0m\u001b[37m\u001b[0m \u001b[1m0s\u001b[0m 2ms/step - accuracy: 0.9691 - loss: 0.1137\n"
     ]
    }
   ],
   "source": [
    "client1_model = create_client_model()\n",
    "client2_model = create_client_model()\n",
    "client3_model = create_client_model()\n",
    "client4_model = create_client_model()\n",
    "client5_model = create_client_model()\n",
    "client6_model = create_client_model()\n",
    "client7_model = create_client_model()\n",
    "client8_model = create_client_model()\n",
    "\n",
    "client1_model = train_client_model(client1_model, client_1[0], client_1[1])\n",
    "client2_model = train_client_model(client2_model, client_2[0], client_2[1])\n",
    "client3_model = train_client_model(client3_model, client_3[0], client_3[1])\n",
    "client4_model = train_client_model(client4_model, client_4[0], client_4[1])\n",
    "client5_model = train_client_model(client5_model, client_5[0], client_5[1])\n",
    "client6_model = train_client_model(client6_model, client_6[0], client_6[1])\n",
    "client7_model = train_client_model(client7_model, client_7[0], client_7[1])\n",
    "client8_model = train_client_model(client8_model, client_8[0], client_8[1])"
   ]
  },
  {
   "cell_type": "code",
   "execution_count": 45,
   "metadata": {
    "id": "xXh3uhF4Jwbe"
   },
   "outputs": [],
   "source": [
    "# Federated averaging\n",
    "def federated_average_weights(weights1, weights2, weights3, weights4,  weights5,  weights6,  weights7,  weights8):\n",
    "    new_weights = []\n",
    "    for w1, w2, w3, w4, w5, w6, w7, w8 in zip(weights1, weights2,  weights3,  weights4,  weights5,  weights6,  weights7,  weights8):\n",
    "        new_weights.append((w1 + w2 + w3 + w4 + w5 + w6 + w7 + w8) / 8)\n",
    "    return new_weights"
   ]
  },
  {
   "cell_type": "code",
   "execution_count": 46,
   "metadata": {
    "id": "MyDp11I_Jwdt"
   },
   "outputs": [],
   "source": [
    "# Aggregate models\n",
    "aggregated_weights = federated_average_weights(client1_model.get_weights(), client2_model.get_weights(), \n",
    "                                               client3_model.get_weights(), client4_model.get_weights(),  \n",
    "                                               client5_model.get_weights(), client6_model.get_weights(), \n",
    "                                               client7_model.get_weights(), client8_model.get_weights())"
   ]
  },
  {
   "cell_type": "code",
   "execution_count": 47,
   "metadata": {
    "id": "O-NfW_GUGXyh"
   },
   "outputs": [
    {
     "name": "stdout",
     "output_type": "stream",
     "text": [
      "313/313 - 1s - 2ms/step - accuracy: 0.4210 - loss: 1.5526\n",
      "Test accuracy: 0.42100000381469727\n"
     ]
    }
   ],
   "source": [
    "# Create global model and set weights\n",
    "global_model = create_client_model()\n",
    "global_model.set_weights(aggregated_weights)\n",
    "\n",
    "# Evaluate global model\n",
    "test_loss, test_acc = global_model.evaluate(x_test, y_test, verbose=2)\n",
    "print('Test accuracy:', test_acc)"
   ]
  },
  {
   "cell_type": "code",
   "execution_count": 48,
   "metadata": {
    "id": "iryi3SEEKAE2"
   },
   "outputs": [
    {
     "name": "stdout",
     "output_type": "stream",
     "text": [
      "\u001b[1m313/313\u001b[0m \u001b[32m━━━━━━━━━━━━━━━━━━━━\u001b[0m\u001b[37m\u001b[0m \u001b[1m0s\u001b[0m 1ms/step\n",
      "(10000, 10)\n"
     ]
    }
   ],
   "source": [
    "prediction = global_model.predict(x_test)\n",
    "print(prediction.shape)\n",
    "\n",
    "prediction = list(prediction.argmax(axis=1))"
   ]
  },
  {
   "cell_type": "code",
   "execution_count": 49,
   "metadata": {
    "id": "ymbl_sU1KAHX"
   },
   "outputs": [
    {
     "name": "stdout",
     "output_type": "stream",
     "text": [
      "Accuracy test set: 0.421\n",
      "precison test set: 0.6980246367138808\n",
      "Recall test set: 0.421\n",
      "f-score test set: 0.3697585244941951\n"
     ]
    },
    {
     "name": "stderr",
     "output_type": "stream",
     "text": [
      "D:\\Anaconda\\Lib\\site-packages\\sklearn\\metrics\\_classification.py:1344: UndefinedMetricWarning: Precision is ill-defined and being set to 0.0 in labels with no predicted samples. Use `zero_division` parameter to control this behavior.\n",
      "  _warn_prf(average, modifier, msg_start, len(result))\n"
     ]
    }
   ],
   "source": [
    "print(\"Accuracy test set:\", accuracy_score(y_test, prediction))\n",
    "print(\"precison test set:\", precision_score(y_test, prediction, average = 'weighted'))\n",
    "print(\"Recall test set:\", recall_score(y_test, prediction, average = 'weighted'))\n",
    "print(\"f-score test set:\", f1_score(y_test, prediction, average = 'weighted'))"
   ]
  },
  {
   "cell_type": "code",
   "execution_count": 50,
   "metadata": {},
   "outputs": [],
   "source": [
    "test_accuracy.append(0.4921)\n",
    "test_precision.append(0.7043790576459266)\n",
    "test_recall.append(0.4921)\n",
    "test_f1_score.append(0.45679406462004846)"
   ]
  },
  {
   "cell_type": "code",
   "execution_count": 51,
   "metadata": {},
   "outputs": [
    {
     "name": "stdout",
     "output_type": "stream",
     "text": [
      "[0.9163, 0.3284, 0.1518, 0.4921]\n",
      "[0.9215082367337915, 0.4848525535059179, 0.15683234386034006, 0.7043790576459266]\n",
      "[0.9163, 0.3284, 0.1518, 0.4921]\n",
      "[0.9169298364166276, 0.2975957444966415, 0.12918649178542027, 0.45679406462004846]\n"
     ]
    }
   ],
   "source": [
    "print(test_accuracy)\n",
    "print(test_precision)\n",
    "print(test_recall)\n",
    "print(test_f1_score)"
   ]
  },
  {
   "cell_type": "markdown",
   "metadata": {
    "id": "N4ZEjacGKAJl"
   },
   "source": [
    "10 clients"
   ]
  },
  {
   "cell_type": "code",
   "execution_count": 52,
   "metadata": {},
   "outputs": [],
   "source": [
    "client_1 = (x_train[0:6000],y_train[0:6000])\n",
    "client_2= (x_train[6000:12000],y_train[6000:12000])\n",
    "client_3= (x_train[12000:18000],y_train[12000:18000])\n",
    "client_4= (x_train[18000:24000], y_train[18000:24000])\n",
    "client_5=(x_train[24000:30000], y_train[24000:30000])\n",
    "client_6= (x_train[30000:36000], y_train[30000:36000])\n",
    "client_7=(x_train[36000:42000], y_train[36000:42000])\n",
    "client_8=(x_train[42000:48000], y_train[42000:48000])\n",
    "client_9=(x_train[48000:54000], y_train[48000:54000])\n",
    "client_10=(x_train[54000:],y_train[54000:])"
   ]
  },
  {
   "cell_type": "code",
   "execution_count": 53,
   "metadata": {},
   "outputs": [
    {
     "name": "stdout",
     "output_type": "stream",
     "text": [
      "(6000, 28, 28, 1)\n",
      "(6000, 28, 28, 1)\n",
      "(6000, 28, 28, 1)\n",
      "(6000, 28, 28, 1)\n",
      "(6000, 28, 28, 1)\n",
      "(6000, 28, 28, 1)\n",
      "(6000, 28, 28, 1)\n",
      "(6000, 28, 28, 1)\n",
      "(6000, 28, 28, 1)\n",
      "(6000, 28, 28, 1)\n",
      "(6000,)\n",
      "(6000,)\n",
      "(6000,)\n",
      "(6000,)\n",
      "(6000,)\n",
      "(6000,)\n",
      "(6000,)\n",
      "(6000,)\n",
      "(6000,)\n",
      "(6000,)\n"
     ]
    }
   ],
   "source": [
    "print(client_1[0].shape)\n",
    "print(client_2[0].shape)\n",
    "print(client_3[0].shape)\n",
    "print(client_4[0].shape)\n",
    "print(client_5[0].shape)\n",
    "print(client_6[0].shape)\n",
    "print(client_7[0].shape)\n",
    "print(client_8[0].shape)\n",
    "print(client_9[0].shape)\n",
    "print(client_10[0].shape)\n",
    "\n",
    "print(client_1[1].shape)\n",
    "print(client_2[1].shape)\n",
    "print(client_3[1].shape)\n",
    "print(client_4[1].shape)\n",
    "print(client_5[1].shape)\n",
    "print(client_6[1].shape)\n",
    "print(client_7[1].shape)\n",
    "print(client_8[1].shape)\n",
    "print(client_9[1].shape)\n",
    "print(client_10[1].shape)"
   ]
  },
  {
   "cell_type": "code",
   "execution_count": 54,
   "metadata": {},
   "outputs": [
    {
     "name": "stderr",
     "output_type": "stream",
     "text": [
      "D:\\Anaconda\\Lib\\site-packages\\keras\\src\\layers\\reshaping\\flatten.py:37: UserWarning: Do not pass an `input_shape`/`input_dim` argument to a layer. When using Sequential models, prefer using an `Input(shape)` object as the first layer in the model instead.\n",
      "  super().__init__(**kwargs)\n"
     ]
    },
    {
     "name": "stdout",
     "output_type": "stream",
     "text": [
      "Epoch 1/5\n",
      "\u001b[1m188/188\u001b[0m \u001b[32m━━━━━━━━━━━━━━━━━━━━\u001b[0m\u001b[37m\u001b[0m \u001b[1m1s\u001b[0m 2ms/step - accuracy: 0.7166 - loss: 1.0388\n",
      "Epoch 2/5\n",
      "\u001b[1m188/188\u001b[0m \u001b[32m━━━━━━━━━━━━━━━━━━━━\u001b[0m\u001b[37m\u001b[0m \u001b[1m0s\u001b[0m 2ms/step - accuracy: 0.9201 - loss: 0.2905\n",
      "Epoch 3/5\n",
      "\u001b[1m188/188\u001b[0m \u001b[32m━━━━━━━━━━━━━━━━━━━━\u001b[0m\u001b[37m\u001b[0m \u001b[1m0s\u001b[0m 2ms/step - accuracy: 0.9416 - loss: 0.2121\n",
      "Epoch 4/5\n",
      "\u001b[1m188/188\u001b[0m \u001b[32m━━━━━━━━━━━━━━━━━━━━\u001b[0m\u001b[37m\u001b[0m \u001b[1m0s\u001b[0m 2ms/step - accuracy: 0.9581 - loss: 0.1641\n",
      "Epoch 5/5\n",
      "\u001b[1m188/188\u001b[0m \u001b[32m━━━━━━━━━━━━━━━━━━━━\u001b[0m\u001b[37m\u001b[0m \u001b[1m0s\u001b[0m 2ms/step - accuracy: 0.9687 - loss: 0.1304\n",
      "Epoch 1/5\n",
      "\u001b[1m188/188\u001b[0m \u001b[32m━━━━━━━━━━━━━━━━━━━━\u001b[0m\u001b[37m\u001b[0m \u001b[1m1s\u001b[0m 2ms/step - accuracy: 0.6897 - loss: 1.0918\n",
      "Epoch 2/5\n",
      "\u001b[1m188/188\u001b[0m \u001b[32m━━━━━━━━━━━━━━━━━━━━\u001b[0m\u001b[37m\u001b[0m \u001b[1m0s\u001b[0m 2ms/step - accuracy: 0.9111 - loss: 0.3089\n",
      "Epoch 3/5\n",
      "\u001b[1m188/188\u001b[0m \u001b[32m━━━━━━━━━━━━━━━━━━━━\u001b[0m\u001b[37m\u001b[0m \u001b[1m0s\u001b[0m 2ms/step - accuracy: 0.9333 - loss: 0.2213\n",
      "Epoch 4/5\n",
      "\u001b[1m188/188\u001b[0m \u001b[32m━━━━━━━━━━━━━━━━━━━━\u001b[0m\u001b[37m\u001b[0m \u001b[1m0s\u001b[0m 2ms/step - accuracy: 0.9560 - loss: 0.1679\n",
      "Epoch 5/5\n",
      "\u001b[1m188/188\u001b[0m \u001b[32m━━━━━━━━━━━━━━━━━━━━\u001b[0m\u001b[37m\u001b[0m \u001b[1m0s\u001b[0m 2ms/step - accuracy: 0.9680 - loss: 0.1312\n",
      "Epoch 1/5\n",
      "\u001b[1m188/188\u001b[0m \u001b[32m━━━━━━━━━━━━━━━━━━━━\u001b[0m\u001b[37m\u001b[0m \u001b[1m1s\u001b[0m 2ms/step - accuracy: 0.6923 - loss: 1.0971\n",
      "Epoch 2/5\n",
      "\u001b[1m188/188\u001b[0m \u001b[32m━━━━━━━━━━━━━━━━━━━━\u001b[0m\u001b[37m\u001b[0m \u001b[1m0s\u001b[0m 2ms/step - accuracy: 0.9017 - loss: 0.3462\n",
      "Epoch 3/5\n",
      "\u001b[1m188/188\u001b[0m \u001b[32m━━━━━━━━━━━━━━━━━━━━\u001b[0m\u001b[37m\u001b[0m \u001b[1m0s\u001b[0m 2ms/step - accuracy: 0.9259 - loss: 0.2536\n",
      "Epoch 4/5\n",
      "\u001b[1m188/188\u001b[0m \u001b[32m━━━━━━━━━━━━━━━━━━━━\u001b[0m\u001b[37m\u001b[0m \u001b[1m0s\u001b[0m 2ms/step - accuracy: 0.9478 - loss: 0.1938\n",
      "Epoch 5/5\n",
      "\u001b[1m188/188\u001b[0m \u001b[32m━━━━━━━━━━━━━━━━━━━━\u001b[0m\u001b[37m\u001b[0m \u001b[1m0s\u001b[0m 2ms/step - accuracy: 0.9624 - loss: 0.1518\n",
      "Epoch 1/5\n",
      "\u001b[1m188/188\u001b[0m \u001b[32m━━━━━━━━━━━━━━━━━━━━\u001b[0m\u001b[37m\u001b[0m \u001b[1m1s\u001b[0m 2ms/step - accuracy: 0.6905 - loss: 1.0922\n",
      "Epoch 2/5\n",
      "\u001b[1m188/188\u001b[0m \u001b[32m━━━━━━━━━━━━━━━━━━━━\u001b[0m\u001b[37m\u001b[0m \u001b[1m0s\u001b[0m 2ms/step - accuracy: 0.9223 - loss: 0.2885\n",
      "Epoch 3/5\n",
      "\u001b[1m188/188\u001b[0m \u001b[32m━━━━━━━━━━━━━━━━━━━━\u001b[0m\u001b[37m\u001b[0m \u001b[1m0s\u001b[0m 2ms/step - accuracy: 0.9441 - loss: 0.2036\n",
      "Epoch 4/5\n",
      "\u001b[1m188/188\u001b[0m \u001b[32m━━━━━━━━━━━━━━━━━━━━\u001b[0m\u001b[37m\u001b[0m \u001b[1m0s\u001b[0m 2ms/step - accuracy: 0.9576 - loss: 0.1513\n",
      "Epoch 5/5\n",
      "\u001b[1m188/188\u001b[0m \u001b[32m━━━━━━━━━━━━━━━━━━━━\u001b[0m\u001b[37m\u001b[0m \u001b[1m0s\u001b[0m 2ms/step - accuracy: 0.9700 - loss: 0.1137\n",
      "Epoch 1/5\n",
      "\u001b[1m188/188\u001b[0m \u001b[32m━━━━━━━━━━━━━━━━━━━━\u001b[0m\u001b[37m\u001b[0m \u001b[1m1s\u001b[0m 2ms/step - accuracy: 0.6981 - loss: 1.0473\n",
      "Epoch 2/5\n",
      "\u001b[1m188/188\u001b[0m \u001b[32m━━━━━━━━━━━━━━━━━━━━\u001b[0m\u001b[37m\u001b[0m \u001b[1m0s\u001b[0m 2ms/step - accuracy: 0.9153 - loss: 0.3147\n",
      "Epoch 3/5\n",
      "\u001b[1m188/188\u001b[0m \u001b[32m━━━━━━━━━━━━━━━━━━━━\u001b[0m\u001b[37m\u001b[0m \u001b[1m0s\u001b[0m 2ms/step - accuracy: 0.9321 - loss: 0.2387\n",
      "Epoch 4/5\n",
      "\u001b[1m188/188\u001b[0m \u001b[32m━━━━━━━━━━━━━━━━━━━━\u001b[0m\u001b[37m\u001b[0m \u001b[1m0s\u001b[0m 2ms/step - accuracy: 0.9492 - loss: 0.1921\n",
      "Epoch 5/5\n",
      "\u001b[1m188/188\u001b[0m \u001b[32m━━━━━━━━━━━━━━━━━━━━\u001b[0m\u001b[37m\u001b[0m \u001b[1m0s\u001b[0m 2ms/step - accuracy: 0.9585 - loss: 0.1553\n",
      "Epoch 1/5\n",
      "\u001b[1m188/188\u001b[0m \u001b[32m━━━━━━━━━━━━━━━━━━━━\u001b[0m\u001b[37m\u001b[0m \u001b[1m1s\u001b[0m 2ms/step - accuracy: 0.6762 - loss: 1.1417\n",
      "Epoch 2/5\n",
      "\u001b[1m188/188\u001b[0m \u001b[32m━━━━━━━━━━━━━━━━━━━━\u001b[0m\u001b[37m\u001b[0m \u001b[1m0s\u001b[0m 2ms/step - accuracy: 0.9057 - loss: 0.3260\n",
      "Epoch 3/5\n",
      "\u001b[1m188/188\u001b[0m \u001b[32m━━━━━━━━━━━━━━━━━━━━\u001b[0m\u001b[37m\u001b[0m \u001b[1m0s\u001b[0m 2ms/step - accuracy: 0.9321 - loss: 0.2375\n",
      "Epoch 4/5\n",
      "\u001b[1m188/188\u001b[0m \u001b[32m━━━━━━━━━━━━━━━━━━━━\u001b[0m\u001b[37m\u001b[0m \u001b[1m0s\u001b[0m 2ms/step - accuracy: 0.9463 - loss: 0.1824\n",
      "Epoch 5/5\n",
      "\u001b[1m188/188\u001b[0m \u001b[32m━━━━━━━━━━━━━━━━━━━━\u001b[0m\u001b[37m\u001b[0m \u001b[1m0s\u001b[0m 2ms/step - accuracy: 0.9615 - loss: 0.1428\n",
      "Epoch 1/5\n",
      "\u001b[1m188/188\u001b[0m \u001b[32m━━━━━━━━━━━━━━━━━━━━\u001b[0m\u001b[37m\u001b[0m \u001b[1m1s\u001b[0m 2ms/step - accuracy: 0.6883 - loss: 1.0986\n",
      "Epoch 2/5\n",
      "\u001b[1m188/188\u001b[0m \u001b[32m━━━━━━━━━━━━━━━━━━━━\u001b[0m\u001b[37m\u001b[0m \u001b[1m0s\u001b[0m 2ms/step - accuracy: 0.9074 - loss: 0.3362\n",
      "Epoch 3/5\n",
      "\u001b[1m188/188\u001b[0m \u001b[32m━━━━━━━━━━━━━━━━━━━━\u001b[0m\u001b[37m\u001b[0m \u001b[1m0s\u001b[0m 2ms/step - accuracy: 0.9305 - loss: 0.2527\n",
      "Epoch 4/5\n",
      "\u001b[1m188/188\u001b[0m \u001b[32m━━━━━━━━━━━━━━━━━━━━\u001b[0m\u001b[37m\u001b[0m \u001b[1m0s\u001b[0m 2ms/step - accuracy: 0.9478 - loss: 0.1978\n",
      "Epoch 5/5\n",
      "\u001b[1m188/188\u001b[0m \u001b[32m━━━━━━━━━━━━━━━━━━━━\u001b[0m\u001b[37m\u001b[0m \u001b[1m0s\u001b[0m 2ms/step - accuracy: 0.9582 - loss: 0.1565\n",
      "Epoch 1/5\n",
      "\u001b[1m188/188\u001b[0m \u001b[32m━━━━━━━━━━━━━━━━━━━━\u001b[0m\u001b[37m\u001b[0m \u001b[1m1s\u001b[0m 2ms/step - accuracy: 0.6635 - loss: 1.1112\n",
      "Epoch 2/5\n",
      "\u001b[1m188/188\u001b[0m \u001b[32m━━━━━━━━━━━━━━━━━━━━\u001b[0m\u001b[37m\u001b[0m \u001b[1m0s\u001b[0m 2ms/step - accuracy: 0.8954 - loss: 0.3483\n",
      "Epoch 3/5\n",
      "\u001b[1m188/188\u001b[0m \u001b[32m━━━━━━━━━━━━━━━━━━━━\u001b[0m\u001b[37m\u001b[0m \u001b[1m0s\u001b[0m 2ms/step - accuracy: 0.9282 - loss: 0.2565\n",
      "Epoch 4/5\n",
      "\u001b[1m188/188\u001b[0m \u001b[32m━━━━━━━━━━━━━━━━━━━━\u001b[0m\u001b[37m\u001b[0m \u001b[1m0s\u001b[0m 2ms/step - accuracy: 0.9427 - loss: 0.2024\n",
      "Epoch 5/5\n",
      "\u001b[1m188/188\u001b[0m \u001b[32m━━━━━━━━━━━━━━━━━━━━\u001b[0m\u001b[37m\u001b[0m \u001b[1m0s\u001b[0m 2ms/step - accuracy: 0.9562 - loss: 0.1639\n",
      "Epoch 1/5\n",
      "\u001b[1m188/188\u001b[0m \u001b[32m━━━━━━━━━━━━━━━━━━━━\u001b[0m\u001b[37m\u001b[0m \u001b[1m0s\u001b[0m 2ms/step - accuracy: 0.9267 - loss: 0.2618\n",
      "Epoch 2/5\n",
      "\u001b[1m188/188\u001b[0m \u001b[32m━━━━━━━━━━━━━━━━━━━━\u001b[0m\u001b[37m\u001b[0m \u001b[1m0s\u001b[0m 2ms/step - accuracy: 0.9526 - loss: 0.1641\n",
      "Epoch 3/5\n",
      "\u001b[1m188/188\u001b[0m \u001b[32m━━━━━━━━━━━━━━━━━━━━\u001b[0m\u001b[37m\u001b[0m \u001b[1m0s\u001b[0m 2ms/step - accuracy: 0.9683 - loss: 0.1194\n",
      "Epoch 4/5\n",
      "\u001b[1m188/188\u001b[0m \u001b[32m━━━━━━━━━━━━━━━━━━━━\u001b[0m\u001b[37m\u001b[0m \u001b[1m0s\u001b[0m 2ms/step - accuracy: 0.9762 - loss: 0.0897\n",
      "Epoch 5/5\n",
      "\u001b[1m188/188\u001b[0m \u001b[32m━━━━━━━━━━━━━━━━━━━━\u001b[0m\u001b[37m\u001b[0m \u001b[1m0s\u001b[0m 2ms/step - accuracy: 0.9848 - loss: 0.0676\n",
      "Epoch 1/5\n",
      "\u001b[1m188/188\u001b[0m \u001b[32m━━━━━━━━━━━━━━━━━━━━\u001b[0m\u001b[37m\u001b[0m \u001b[1m0s\u001b[0m 2ms/step - accuracy: 0.9593 - loss: 0.1501\n",
      "Epoch 2/5\n",
      "\u001b[1m188/188\u001b[0m \u001b[32m━━━━━━━━━━━━━━━━━━━━\u001b[0m\u001b[37m\u001b[0m \u001b[1m0s\u001b[0m 2ms/step - accuracy: 0.9752 - loss: 0.0867\n",
      "Epoch 3/5\n",
      "\u001b[1m188/188\u001b[0m \u001b[32m━━━━━━━━━━━━━━━━━━━━\u001b[0m\u001b[37m\u001b[0m \u001b[1m0s\u001b[0m 2ms/step - accuracy: 0.9845 - loss: 0.0590\n",
      "Epoch 4/5\n",
      "\u001b[1m188/188\u001b[0m \u001b[32m━━━━━━━━━━━━━━━━━━━━\u001b[0m\u001b[37m\u001b[0m \u001b[1m0s\u001b[0m 2ms/step - accuracy: 0.9923 - loss: 0.0419\n",
      "Epoch 5/5\n",
      "\u001b[1m188/188\u001b[0m \u001b[32m━━━━━━━━━━━━━━━━━━━━\u001b[0m\u001b[37m\u001b[0m \u001b[1m0s\u001b[0m 2ms/step - accuracy: 0.9967 - loss: 0.0312\n"
     ]
    }
   ],
   "source": [
    "client1_model = create_client_model()\n",
    "client2_model = create_client_model()\n",
    "client3_model = create_client_model()\n",
    "client4_model = create_client_model()\n",
    "client5_model = create_client_model()\n",
    "client6_model = create_client_model()\n",
    "client7_model = create_client_model()\n",
    "client8_model = create_client_model()\n",
    "client9_model = create_client_model()\n",
    "client10_model = create_client_model()\n",
    "\n",
    "client1_model = train_client_model(client1_model, client_1[0], client_1[1])\n",
    "client2_model = train_client_model(client2_model, client_2[0], client_2[1])\n",
    "client3_model = train_client_model(client3_model, client_3[0], client_3[1])\n",
    "client4_model = train_client_model(client4_model, client_4[0], client_4[1])\n",
    "client5_model = train_client_model(client5_model, client_5[0], client_5[1])\n",
    "client6_model = train_client_model(client6_model, client_6[0], client_6[1])\n",
    "client7_model = train_client_model(client7_model, client_7[0], client_7[1])\n",
    "client8_model = train_client_model(client8_model, client_8[0], client_8[1])\n",
    "client9_model = train_client_model(client8_model, client_9[0], client_9[1])\n",
    "client10_model = train_client_model(client8_model, client_10[0], client_10[1])"
   ]
  },
  {
   "cell_type": "code",
   "execution_count": 55,
   "metadata": {},
   "outputs": [],
   "source": [
    "# Federated averaging\n",
    "def federated_average_weights(weights1, weights2, weights3, weights4,  weights5,  weights6,  weights7,  weights8, weights9, weights10):\n",
    "    new_weights = []\n",
    "    for w1, w2, w3, w4, w5, w6, w7, w8, w9, w10 in zip(weights1, weights2,  weights3,  weights4,  weights5,  weights6,  weights7,  weights8, weights9, weights10):\n",
    "        new_weights.append((w1 + w2 + w3 + w4 + w5 + w6 + w7 + w8 + w9 + w10) / 10)\n",
    "    return new_weights"
   ]
  },
  {
   "cell_type": "code",
   "execution_count": 56,
   "metadata": {},
   "outputs": [],
   "source": [
    "# Aggregate models\n",
    "aggregated_weights = federated_average_weights(client1_model.get_weights(), client2_model.get_weights(), \n",
    "                                               client3_model.get_weights(), client4_model.get_weights(),  \n",
    "                                               client5_model.get_weights(), client6_model.get_weights(), \n",
    "                                               client7_model.get_weights(), client8_model.get_weights(),\n",
    "                                               client9_model.get_weights(), client10_model.get_weights())\n",
    "# Create global model and set weights\n",
    "global_model = create_client_model()\n",
    "global_model.set_weights(aggregated_weights)\n"
   ]
  },
  {
   "cell_type": "code",
   "execution_count": 57,
   "metadata": {},
   "outputs": [
    {
     "name": "stdout",
     "output_type": "stream",
     "text": [
      "313/313 - 1s - 2ms/step - accuracy: 0.7255 - loss: 1.1132\n",
      "Test accuracy: 0.7254999876022339\n",
      "\u001b[1m313/313\u001b[0m \u001b[32m━━━━━━━━━━━━━━━━━━━━\u001b[0m\u001b[37m\u001b[0m \u001b[1m0s\u001b[0m 1ms/step\n",
      "(10000, 10)\n"
     ]
    }
   ],
   "source": [
    "# Evaluate global model\n",
    "test_loss, test_acc = global_model.evaluate(x_test, y_test, verbose=2)\n",
    "print('Test accuracy:', test_acc)\n",
    "\n",
    "prediction = global_model.predict(x_test)\n",
    "print(prediction.shape)\n",
    "\n",
    "prediction = list(prediction.argmax(axis=1))"
   ]
  },
  {
   "cell_type": "code",
   "execution_count": 58,
   "metadata": {},
   "outputs": [
    {
     "name": "stdout",
     "output_type": "stream",
     "text": [
      "Accuracy test set: 0.7255\n",
      "precison test set: 0.8574106113383166\n",
      "Recall test set: 0.7255\n",
      "f-score test set: 0.7089747664048425\n",
      "              precision    recall  f1-score   support\n",
      "\n",
      "           0       0.97      0.78      0.86       980\n",
      "           1       0.97      0.97      0.97      1135\n",
      "           2       0.90      0.86      0.88      1032\n",
      "           3       0.82      0.84      0.83      1010\n",
      "           4       0.92      0.85      0.88       982\n",
      "           5       0.32      0.98      0.48       892\n",
      "           6       0.98      0.70      0.82       958\n",
      "           7       0.69      0.96      0.80      1028\n",
      "           8       0.99      0.17      0.29       974\n",
      "           9       0.96      0.11      0.20      1009\n",
      "\n",
      "    accuracy                           0.73     10000\n",
      "   macro avg       0.85      0.72      0.70     10000\n",
      "weighted avg       0.86      0.73      0.71     10000\n",
      "\n"
     ]
    }
   ],
   "source": [
    "print(\"Accuracy test set:\", accuracy_score(y_test, prediction))\n",
    "print(\"precison test set:\", precision_score(y_test, prediction, average = 'weighted'))\n",
    "print(\"Recall test set:\", recall_score(y_test, prediction, average = 'weighted'))\n",
    "print(\"f-score test set:\", f1_score(y_test, prediction, average = 'weighted'))\n",
    "\n",
    "print(classification_report(y_test, prediction))"
   ]
  },
  {
   "cell_type": "code",
   "execution_count": 59,
   "metadata": {},
   "outputs": [
    {
     "name": "stdout",
     "output_type": "stream",
     "text": [
      "[0.9163, 0.3284, 0.1518, 0.4921, 0.7529]\n",
      "[0.9215082367337915, 0.4848525535059179, 0.15683234386034006, 0.7043790576459266, 0.8338354520257586]\n",
      "[0.9163, 0.3284, 0.1518, 0.4921, 0.7529]\n",
      "[0.9169298364166276, 0.2975957444966415, 0.12918649178542027, 0.45679406462004846, 0.7288177564972788]\n"
     ]
    }
   ],
   "source": [
    "test_accuracy.append(0.7529)\n",
    "test_precision.append(0.8338354520257586)\n",
    "test_recall.append(0.7529)\n",
    "test_f1_score.append(0.7288177564972788)\n",
    "\n",
    "print(test_accuracy)\n",
    "print(test_precision)\n",
    "print(test_recall)\n",
    "print(test_f1_score)"
   ]
  },
  {
   "cell_type": "markdown",
   "metadata": {},
   "source": [
    "Plot the model's performance for the number of clients ranging from 2, 4, 6, 8, and 10.¶"
   ]
  },
  {
   "cell_type": "code",
   "execution_count": 60,
   "metadata": {},
   "outputs": [],
   "source": [
    "import pandas as pd"
   ]
  },
  {
   "cell_type": "code",
   "execution_count": 61,
   "metadata": {},
   "outputs": [
    {
     "name": "stdout",
     "output_type": "stream",
     "text": [
      "[[0.9163, 0.3284, 0.1518, 0.4921, 0.7529], [0.9215082367337915, 0.4848525535059179, 0.15683234386034006, 0.7043790576459266, 0.8338354520257586], [0.9163, 0.3284, 0.1518, 0.4921, 0.7529], [0.9169298364166276, 0.2975957444966415, 0.12918649178542027, 0.45679406462004846, 0.7288177564972788]]\n"
     ]
    },
    {
     "data": {
      "text/html": [
       "<div>\n",
       "<style scoped>\n",
       "    .dataframe tbody tr th:only-of-type {\n",
       "        vertical-align: middle;\n",
       "    }\n",
       "\n",
       "    .dataframe tbody tr th {\n",
       "        vertical-align: top;\n",
       "    }\n",
       "\n",
       "    .dataframe thead th {\n",
       "        text-align: right;\n",
       "    }\n",
       "</style>\n",
       "<table border=\"1\" class=\"dataframe\">\n",
       "  <thead>\n",
       "    <tr style=\"text-align: right;\">\n",
       "      <th></th>\n",
       "      <th>Accuracy</th>\n",
       "      <th>Precision</th>\n",
       "      <th>Recall</th>\n",
       "      <th>F1_Score</th>\n",
       "    </tr>\n",
       "  </thead>\n",
       "  <tbody>\n",
       "    <tr>\n",
       "      <th>2</th>\n",
       "      <td>0.9163</td>\n",
       "      <td>0.921508</td>\n",
       "      <td>0.9163</td>\n",
       "      <td>0.916930</td>\n",
       "    </tr>\n",
       "    <tr>\n",
       "      <th>4</th>\n",
       "      <td>0.3284</td>\n",
       "      <td>0.484853</td>\n",
       "      <td>0.3284</td>\n",
       "      <td>0.297596</td>\n",
       "    </tr>\n",
       "    <tr>\n",
       "      <th>6</th>\n",
       "      <td>0.1518</td>\n",
       "      <td>0.156832</td>\n",
       "      <td>0.1518</td>\n",
       "      <td>0.129186</td>\n",
       "    </tr>\n",
       "    <tr>\n",
       "      <th>8</th>\n",
       "      <td>0.4921</td>\n",
       "      <td>0.704379</td>\n",
       "      <td>0.4921</td>\n",
       "      <td>0.456794</td>\n",
       "    </tr>\n",
       "    <tr>\n",
       "      <th>10</th>\n",
       "      <td>0.7529</td>\n",
       "      <td>0.833835</td>\n",
       "      <td>0.7529</td>\n",
       "      <td>0.728818</td>\n",
       "    </tr>\n",
       "  </tbody>\n",
       "</table>\n",
       "</div>"
      ],
      "text/plain": [
       "    Accuracy  Precision  Recall  F1_Score\n",
       "2     0.9163   0.921508  0.9163  0.916930\n",
       "4     0.3284   0.484853  0.3284  0.297596\n",
       "6     0.1518   0.156832  0.1518  0.129186\n",
       "8     0.4921   0.704379  0.4921  0.456794\n",
       "10    0.7529   0.833835  0.7529  0.728818"
      ]
     },
     "execution_count": 61,
     "metadata": {},
     "output_type": "execute_result"
    }
   ],
   "source": [
    "ErrorMetrics = []\n",
    "ErrorMetrics.append(test_accuracy)\n",
    "ErrorMetrics.append(test_precision)\n",
    "ErrorMetrics.append(test_recall)\n",
    "ErrorMetrics.append(test_f1_score)\n",
    "\n",
    "print(ErrorMetrics)\n",
    "\n",
    "ErrorMetrics_pd = pd.DataFrame(ErrorMetrics)\n",
    "ErrorMetrics_pd.columns = [2,4,6,8,10]\n",
    "ErrorMetrics_pd = ErrorMetrics_pd.T\n",
    "ErrorMetrics_pd.columns = ['Accuracy','Precision','Recall','F1_Score']\n",
    "ErrorMetrics_pd"
   ]
  },
  {
   "cell_type": "code",
   "execution_count": 62,
   "metadata": {},
   "outputs": [
    {
     "data": {
      "text/plain": [
       "<Axes: >"
      ]
     },
     "execution_count": 62,
     "metadata": {},
     "output_type": "execute_result"
    },
    {
     "data": {
      "image/png": "[encoded data removed]",
      "text/plain": [
       "<Figure size 640x480 with 1 Axes>"
      ]
     },
     "metadata": {},
     "output_type": "display_data"
    }
   ],
   "source": [
    "ErrorMetrics_pd.plot.bar(width=0.7, alpha=0.7)"
   ]
  },
  {
   "cell_type": "markdown",
   "metadata": {},
   "source": [
    "Dishonest \n"
   ]
  },
  {
   "cell_type": "code",
   "execution_count": 63,
   "metadata": {},
   "outputs": [],
   "source": [
    "# Split data into 4 clients\n",
    "client_1 = (x_train[0:15000], y_train[0:15000])\n",
    "client_2 = (x_train[15000:30000], y_train[15000:30000])\n",
    "client_3 = (x_train[30000:45000], y_train[30000:45000])\n",
    "client_4 = (x_train[45000:], y_train[45000:])"
   ]
  },
  {
   "cell_type": "code",
   "execution_count": 64,
   "metadata": {},
   "outputs": [
    {
     "data": {
      "text/plain": [
       "15000"
      ]
     },
     "execution_count": 64,
     "metadata": {},
     "output_type": "execute_result"
    }
   ],
   "source": [
    "client_3[1].size"
   ]
  },
  {
   "cell_type": "code",
   "execution_count": 65,
   "metadata": {},
   "outputs": [
    {
     "data": {
      "text/plain": [
       "array([3, 7, 3, ..., 8, 4, 5], dtype=uint8)"
      ]
     },
     "execution_count": 65,
     "metadata": {},
     "output_type": "execute_result"
    }
   ],
   "source": [
    "client_3[1]"
   ]
  },
  {
   "cell_type": "code",
   "execution_count": 66,
   "metadata": {},
   "outputs": [],
   "source": [
    "client_3[1][:3000] = 5"
   ]
  },
  {
   "cell_type": "code",
   "execution_count": 67,
   "metadata": {},
   "outputs": [
    {
     "data": {
      "text/plain": [
       "array([5, 5, 5, ..., 8, 4, 5], dtype=uint8)"
      ]
     },
     "execution_count": 67,
     "metadata": {},
     "output_type": "execute_result"
    }
   ],
   "source": [
    "client_3[1]"
   ]
  },
  {
   "cell_type": "code",
   "execution_count": 68,
   "metadata": {},
   "outputs": [
    {
     "name": "stdout",
     "output_type": "stream",
     "text": [
      "(15000, 28, 28, 1)\n",
      "(15000, 28, 28, 1)\n",
      "(15000, 28, 28, 1)\n",
      "(15000, 28, 28, 1)\n",
      "(15000,)\n",
      "(15000,)\n",
      "(15000,)\n",
      "(15000,)\n"
     ]
    }
   ],
   "source": [
    "print(client_1[0].shape)\n",
    "print(client_2[0].shape)\n",
    "print(client_3[0].shape)\n",
    "print(client_4[0].shape)\n",
    "\n",
    "print(client_1[1].shape)\n",
    "print(client_2[1].shape)\n",
    "print(client_3[1].shape)\n",
    "print(client_4[1].shape)"
   ]
  },
  {
   "cell_type": "code",
   "execution_count": 69,
   "metadata": {},
   "outputs": [
    {
     "name": "stdout",
     "output_type": "stream",
     "text": [
      "Epoch 1/5\n"
     ]
    },
    {
     "name": "stderr",
     "output_type": "stream",
     "text": [
      "D:\\Anaconda\\Lib\\site-packages\\keras\\src\\layers\\reshaping\\flatten.py:37: UserWarning: Do not pass an `input_shape`/`input_dim` argument to a layer. When using Sequential models, prefer using an `Input(shape)` object as the first layer in the model instead.\n",
      "  super().__init__(**kwargs)\n"
     ]
    },
    {
     "name": "stdout",
     "output_type": "stream",
     "text": [
      "\u001b[1m469/469\u001b[0m \u001b[32m━━━━━━━━━━━━━━━━━━━━\u001b[0m\u001b[37m\u001b[0m \u001b[1m2s\u001b[0m 2ms/step - accuracy: 0.7817 - loss: 0.7493\n",
      "Epoch 2/5\n",
      "\u001b[1m469/469\u001b[0m \u001b[32m━━━━━━━━━━━━━━━━━━━━\u001b[0m\u001b[37m\u001b[0m \u001b[1m1s\u001b[0m 2ms/step - accuracy: 0.9375 - loss: 0.2296\n",
      "Epoch 3/5\n",
      "\u001b[1m469/469\u001b[0m \u001b[32m━━━━━━━━━━━━━━━━━━━━\u001b[0m\u001b[37m\u001b[0m \u001b[1m1s\u001b[0m 2ms/step - accuracy: 0.9556 - loss: 0.1590\n",
      "Epoch 4/5\n",
      "\u001b[1m469/469\u001b[0m \u001b[32m━━━━━━━━━━━━━━━━━━━━\u001b[0m\u001b[37m\u001b[0m \u001b[1m1s\u001b[0m 2ms/step - accuracy: 0.9681 - loss: 0.1168\n",
      "Epoch 5/5\n",
      "\u001b[1m469/469\u001b[0m \u001b[32m━━━━━━━━━━━━━━━━━━━━\u001b[0m\u001b[37m\u001b[0m \u001b[1m1s\u001b[0m 2ms/step - accuracy: 0.9763 - loss: 0.0870\n",
      "Epoch 1/5\n",
      "\u001b[1m469/469\u001b[0m \u001b[32m━━━━━━━━━━━━━━━━━━━━\u001b[0m\u001b[37m\u001b[0m \u001b[1m2s\u001b[0m 2ms/step - accuracy: 0.0997 - loss: 2.3300\n",
      "Epoch 2/5\n",
      "\u001b[1m469/469\u001b[0m \u001b[32m━━━━━━━━━━━━━━━━━━━━\u001b[0m\u001b[37m\u001b[0m \u001b[1m1s\u001b[0m 2ms/step - accuracy: 0.1214 - loss: 2.2937\n",
      "Epoch 3/5\n",
      "\u001b[1m469/469\u001b[0m \u001b[32m━━━━━━━━━━━━━━━━━━━━\u001b[0m\u001b[37m\u001b[0m \u001b[1m1s\u001b[0m 2ms/step - accuracy: 0.1317 - loss: 2.2804\n",
      "Epoch 4/5\n",
      "\u001b[1m469/469\u001b[0m \u001b[32m━━━━━━━━━━━━━━━━━━━━\u001b[0m\u001b[37m\u001b[0m \u001b[1m1s\u001b[0m 2ms/step - accuracy: 0.1546 - loss: 2.2585\n",
      "Epoch 5/5\n",
      "\u001b[1m469/469\u001b[0m \u001b[32m━━━━━━━━━━━━━━━━━━━━\u001b[0m\u001b[37m\u001b[0m \u001b[1m1s\u001b[0m 2ms/step - accuracy: 0.1692 - loss: 2.2354\n",
      "Epoch 1/5\n",
      "\u001b[1m469/469\u001b[0m \u001b[32m━━━━━━━━━━━━━━━━━━━━\u001b[0m\u001b[37m\u001b[0m \u001b[1m2s\u001b[0m 2ms/step - accuracy: 0.1060 - loss: 2.3239\n",
      "Epoch 2/5\n",
      "\u001b[1m469/469\u001b[0m \u001b[32m━━━━━━━━━━━━━━━━━━━━\u001b[0m\u001b[37m\u001b[0m \u001b[1m1s\u001b[0m 2ms/step - accuracy: 0.1210 - loss: 2.2957\n",
      "Epoch 3/5\n",
      "\u001b[1m469/469\u001b[0m \u001b[32m━━━━━━━━━━━━━━━━━━━━\u001b[0m\u001b[37m\u001b[0m \u001b[1m1s\u001b[0m 2ms/step - accuracy: 0.1346 - loss: 2.2858\n",
      "Epoch 4/5\n",
      "\u001b[1m469/469\u001b[0m \u001b[32m━━━━━━━━━━━━━━━━━━━━\u001b[0m\u001b[37m\u001b[0m \u001b[1m1s\u001b[0m 2ms/step - accuracy: 0.1445 - loss: 2.2700\n",
      "Epoch 5/5\n",
      "\u001b[1m469/469\u001b[0m \u001b[32m━━━━━━━━━━━━━━━━━━━━\u001b[0m\u001b[37m\u001b[0m \u001b[1m1s\u001b[0m 2ms/step - accuracy: 0.1593 - loss: 2.2489\n",
      "Epoch 1/5\n",
      "\u001b[1m469/469\u001b[0m \u001b[32m━━━━━━━━━━━━━━━━━━━━\u001b[0m\u001b[37m\u001b[0m \u001b[1m2s\u001b[0m 2ms/step - accuracy: 0.1028 - loss: 2.3291\n",
      "Epoch 2/5\n",
      "\u001b[1m469/469\u001b[0m \u001b[32m━━━━━━━━━━━━━━━━━━━━\u001b[0m\u001b[37m\u001b[0m \u001b[1m1s\u001b[0m 2ms/step - accuracy: 0.1202 - loss: 2.2954\n",
      "Epoch 3/5\n",
      "\u001b[1m469/469\u001b[0m \u001b[32m━━━━━━━━━━━━━━━━━━━━\u001b[0m\u001b[37m\u001b[0m \u001b[1m1s\u001b[0m 2ms/step - accuracy: 0.1339 - loss: 2.2799\n",
      "Epoch 4/5\n",
      "\u001b[1m469/469\u001b[0m \u001b[32m━━━━━━━━━━━━━━━━━━━━\u001b[0m\u001b[37m\u001b[0m \u001b[1m1s\u001b[0m 2ms/step - accuracy: 0.1417 - loss: 2.2603\n",
      "Epoch 5/5\n",
      "\u001b[1m469/469\u001b[0m \u001b[32m━━━━━━━━━━━━━━━━━━━━\u001b[0m\u001b[37m\u001b[0m \u001b[1m1s\u001b[0m 2ms/step - accuracy: 0.1651 - loss: 2.2364\n"
     ]
    }
   ],
   "source": [
    "# Create and train client models\n",
    "client1_model = create_client_model()\n",
    "client2_model = create_client_model()\n",
    "client3_model = create_client_model()\n",
    "client4_model = create_client_model()\n",
    "\n",
    "client1_model = train_client_model(client1_model, client_1[0], client_1[1])\n",
    "client2_model = train_client_model(client2_model, client_2[0], client_1[1])\n",
    "client3_model = train_client_model(client3_model, client_3[0], client_1[1])\n",
    "client4_model = train_client_model(client4_model, client_4[0], client_1[1])"
   ]
  },
  {
   "cell_type": "code",
   "execution_count": 70,
   "metadata": {},
   "outputs": [],
   "source": [
    "# Federated averaging\n",
    "def federated_average_weights(weights1, weights2, weights3, weights4):\n",
    "    new_weights = []\n",
    "    for w1, w2, w3, w4 in zip(weights1, weights2, weights3, weights4):\n",
    "        new_weights.append((w1 + w2 + w3 + w4 ) / 4)\n",
    "    return new_weights\n",
    "\n",
    "\n",
    "# Aggregate models\n",
    "aggregated_weights = federated_average_weights(client1_model.get_weights(), \n",
    "                                               client2_model.get_weights(), \n",
    "                                               client3_model.get_weights(),\n",
    "                                               client4_model.get_weights())\n",
    "                                             \n",
    "# Create global model and set weights\n",
    "global_model = create_client_model()\n",
    "global_model.set_weights(aggregated_weights)"
   ]
  },
  {
   "cell_type": "code",
   "execution_count": 71,
   "metadata": {},
   "outputs": [
    {
     "name": "stdout",
     "output_type": "stream",
     "text": [
      "313/313 - 1s - 2ms/step - accuracy: 0.2476 - loss: 2.2557\n",
      "Test accuracy: 0.2476000040769577\n",
      "\u001b[1m313/313\u001b[0m \u001b[32m━━━━━━━━━━━━━━━━━━━━\u001b[0m\u001b[37m\u001b[0m \u001b[1m0s\u001b[0m 1ms/step\n",
      "(10000, 10)\n",
      "Accuracy test set:  0.2476\n",
      "Precision test set:  0.3087339281190053\n",
      "Recall test set:  0.2476\n",
      "F-score test set:  0.21732400455516585\n",
      "              precision    recall  f1-score   support\n",
      "\n",
      "           0       0.59      0.02      0.03       980\n",
      "           1       0.29      0.96      0.44      1135\n",
      "           2       0.21      0.14      0.17      1032\n",
      "           3       0.07      0.08      0.07      1010\n",
      "           4       0.68      0.39      0.50       982\n",
      "           5       0.48      0.36      0.41       892\n",
      "           6       0.34      0.11      0.17       958\n",
      "           7       0.08      0.12      0.10      1028\n",
      "           8       0.29      0.15      0.20       974\n",
      "           9       0.10      0.08      0.09      1009\n",
      "\n",
      "    accuracy                           0.25     10000\n",
      "   macro avg       0.31      0.24      0.22     10000\n",
      "weighted avg       0.31      0.25      0.22     10000\n",
      "\n"
     ]
    }
   ],
   "source": [
    "# Evaluate global model\n",
    "test_loss, test_acc = global_model.evaluate(x_test, y_test, verbose=2)\n",
    "print('Test accuracy:', test_acc)\n",
    "\n",
    "predictions = global_model.predict(x_test)\n",
    "print(predictions.shape)\n",
    "\n",
    "predictions = list(predictions.argmax(axis=1))\n",
    "\n",
    "print(\"Accuracy test set: \", accuracy_score(y_test, predictions))\n",
    "\n",
    "print(\"Precision test set: \", precision_score(y_test, predictions, average = 'weighted' )) \n",
    "print(\"Recall test set: \", recall_score(y_test, predictions, average = 'weighted' ))\n",
    "print(\"F-score test set: \", f1_score(y_test, predictions, average = 'weighted' ))\n",
    "\n",
    "print(classification_report(y_test, predictions))"
   ]
  },
  {
   "cell_type": "code",
   "execution_count": 72,
   "metadata": {},
   "outputs": [],
   "source": [
    "test_accuracy_dishonest  = []\n",
    "test_precision_dishonest = []\n",
    "test_recall_dishonest    = []\n",
    "test_f1_score_dishonest  = []"
   ]
  },
  {
   "cell_type": "code",
   "execution_count": 73,
   "metadata": {},
   "outputs": [
    {
     "name": "stdout",
     "output_type": "stream",
     "text": [
      "[0.1518, 0.3603]\n",
      "[0.15683234386034006, 0.423169487718241]\n",
      "[0.1518, 0.3603]\n",
      "[0.12918649178542027, 0.3296364992938911]\n"
     ]
    }
   ],
   "source": [
    "test_accuracy_dishonest.append(test_accuracy[2])\n",
    "test_precision_dishonest.append(test_precision[2])\n",
    "test_recall_dishonest.append(test_recall[2])\n",
    "test_f1_score_dishonest.append(test_f1_score[2])\n",
    "\n",
    "test_accuracy_dishonest.append(0.3603)\n",
    "test_precision_dishonest.append(0.423169487718241)\n",
    "test_recall_dishonest.append(0.3603)\n",
    "test_f1_score_dishonest.append(0.3296364992938911)\n",
    "\n",
    "print(test_accuracy_dishonest)\n",
    "print(test_precision_dishonest)\n",
    "print(test_recall_dishonest)\n",
    "print(test_f1_score_dishonest)"
   ]
  },
  {
   "cell_type": "code",
   "execution_count": 74,
   "metadata": {},
   "outputs": [
    {
     "name": "stdout",
     "output_type": "stream",
     "text": [
      "[[0.1518, 0.3603], [0.15683234386034006, 0.423169487718241], [0.1518, 0.3603], [0.12918649178542027, 0.3296364992938911]]\n"
     ]
    },
    {
     "data": {
      "text/html": [
       "<div>\n",
       "<style scoped>\n",
       "    .dataframe tbody tr th:only-of-type {\n",
       "        vertical-align: middle;\n",
       "    }\n",
       "\n",
       "    .dataframe tbody tr th {\n",
       "        vertical-align: top;\n",
       "    }\n",
       "\n",
       "    .dataframe thead th {\n",
       "        text-align: right;\n",
       "    }\n",
       "</style>\n",
       "<table border=\"1\" class=\"dataframe\">\n",
       "  <thead>\n",
       "    <tr style=\"text-align: right;\">\n",
       "      <th></th>\n",
       "      <th>Accuracy</th>\n",
       "      <th>Precision</th>\n",
       "      <th>Recall</th>\n",
       "      <th>F1_Score</th>\n",
       "    </tr>\n",
       "  </thead>\n",
       "  <tbody>\n",
       "    <tr>\n",
       "      <th>All are honest</th>\n",
       "      <td>0.1518</td>\n",
       "      <td>0.156832</td>\n",
       "      <td>0.1518</td>\n",
       "      <td>0.129186</td>\n",
       "    </tr>\n",
       "    <tr>\n",
       "      <th>#3 is dishonest</th>\n",
       "      <td>0.3603</td>\n",
       "      <td>0.423169</td>\n",
       "      <td>0.3603</td>\n",
       "      <td>0.329636</td>\n",
       "    </tr>\n",
       "  </tbody>\n",
       "</table>\n",
       "</div>"
      ],
      "text/plain": [
       "                 Accuracy  Precision  Recall  F1_Score\n",
       "All are honest     0.1518   0.156832  0.1518  0.129186\n",
       "#3 is dishonest    0.3603   0.423169  0.3603  0.329636"
      ]
     },
     "execution_count": 74,
     "metadata": {},
     "output_type": "execute_result"
    }
   ],
   "source": [
    "### Plot the model's performance for the 4 clients, one of them (number=3) is dishonest\n",
    "\n",
    "ErrorMetrics = []\n",
    "ErrorMetrics.append(test_accuracy_dishonest)\n",
    "ErrorMetrics.append(test_precision_dishonest)\n",
    "ErrorMetrics.append(test_recall_dishonest)\n",
    "ErrorMetrics.append(test_f1_score_dishonest)\n",
    "\n",
    "print(ErrorMetrics)\n",
    "\n",
    "ErrorMetrics_pd = pd.DataFrame(ErrorMetrics)\n",
    "ErrorMetrics_pd.columns = ['All are honest', '#3 is dishonest']\n",
    "ErrorMetrics_pd = ErrorMetrics_pd.T\n",
    "ErrorMetrics_pd.columns = ['Accuracy','Precision','Recall','F1_Score']\n",
    "ErrorMetrics_pd"
   ]
  },
  {
   "cell_type": "code",
   "execution_count": 75,
   "metadata": {},
   "outputs": [
    {
     "data": {
      "text/plain": [
       "<Axes: >"
      ]
     },
     "execution_count": 75,
     "metadata": {},
     "output_type": "execute_result"
    },
    {
     "data": {
      "image/png": "[encoded data removed]",
      "text/plain": [
       "<Figure size 640x480 with 1 Axes>"
      ]
     },
     "metadata": {},
     "output_type": "display_data"
    }
   ],
   "source": [
    "ErrorMetrics_pd.plot.bar(width=0.7, alpha=0.7)"
   ]
  },
  {
   "cell_type": "markdown",
   "metadata": {
    "id": "aeKbFr6UHMPx"
   },
   "source": [
    "# Lab Logbook requirement: Document the following in lablogbook\n",
    "\n",
    "1. Plot the model's performance for the number of clients ranging from 2, 4, 6, 8, and 10.\n",
    "\n",
    "2. For any specified number of clients, compare the model's performance when one (or more) dishonest clients are present. Plot the performance metrics before and after the presence of dishonest clients.\n",
    "\n",
    "\n"
   ]
  },
  {
   "cell_type": "markdown",
   "metadata": {
    "id": "PQVf56VHHNQe"
   },
   "source": [
    "# Challenges (Optional):\n",
    "\n",
    "## The above code is for one communication round. Write code for multiple communication rounds. In each communication round, clients will train the model on a new dataset. Then the server will merge all these models. Subsequently, the clients will retrain the merged model in the next communication round.\n",
    "\n"
   ]
  }
 ],
 "metadata": {
  "colab": {
   "provenance": [],
   "toc_visible": true
  },
  "kernelspec": {
   "display_name": "Python 3 (ipykernel)",
   "language": "python",
   "name": "python3"
  },
  "language_info": {
   "codemirror_mode": {
    "name": "ipython",
    "version": 3
   },
   "file_extension": ".py",
   "mimetype": "text/x-python",
   "name": "python",
   "nbconvert_exporter": "python",
   "pygments_lexer": "ipython3",
   "version": "3.11.7"
  }
 },
 "nbformat": 4,
 "nbformat_minor": 4
}
